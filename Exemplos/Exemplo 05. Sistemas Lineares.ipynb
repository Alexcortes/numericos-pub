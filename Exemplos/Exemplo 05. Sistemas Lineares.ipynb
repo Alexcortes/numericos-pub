{
 "cells": [
  {
   "cell_type": "code",
   "execution_count": null,
   "metadata": {
    "collapsed": true,
    "deletable": true,
    "editable": true
   },
   "outputs": [],
   "source": [
    "import numpy as np"
   ]
  },
  {
   "cell_type": "code",
   "execution_count": null,
   "metadata": {
    "collapsed": false,
    "deletable": true,
    "editable": true
   },
   "outputs": [],
   "source": [
    "# Definir matriz de coeficientes e vetor de termos independentes inicias\n",
    "A = np.array([[3, 2, -1], [1, 6, 2], [2, 3, 8]])\n",
    "b = np.array([[4, 19, 32]]).T"
   ]
  },
  {
   "cell_type": "code",
   "execution_count": null,
   "metadata": {
    "collapsed": true,
    "deletable": true,
    "editable": true
   },
   "outputs": [],
   "source": [
    "def gauss(A, b):\n",
    "    '''\n",
    "        Função utilizada para executar a Eliminação de Gauss,dada uma matriz de\n",
    "        coeficientes A e um vetor de termos independentes b.\n",
    "    '''\n",
    "    \n",
    "    # Gerar matriz aumentada\n",
    "    G = np.append(A, b, 1).astype(float)\n",
    "\n",
    "    # Aplicar Eliminação de Gauss\n",
    "    n = len(G[:, 0])\n",
    "    for i in range(n - 1):\n",
    "        if G[i, i] == 0:\n",
    "            return -1\n",
    "        for j in range(i + 1, n):\n",
    "            G[j] -= G[i] * G[j, i] / G[i, i]\n",
    "    \n",
    "    # Retornar matriz aumentada modificada\n",
    "    return G"
   ]
  },
  {
   "cell_type": "code",
   "execution_count": null,
   "metadata": {
    "collapsed": true,
    "deletable": true,
    "editable": true
   },
   "outputs": [],
   "source": [
    "def gauss_jordan(A, b):\n",
    "    '''\n",
    "        Função utilizada para solucionar um sistema linear através do Método de Gauss-Jordan.\n",
    "        Dada uma matriz de coeficientes A e um vetor de termos independentes b, é calculado o\n",
    "        vetor de incógnitas.\n",
    "    '''\n",
    "    \n",
    "    # Gerar matriz aumentada\n",
    "    G = np.append(A, b, 1).astype(float)\n",
    "\n",
    "    # Aplicar Eliminação de Gauss\n",
    "    n = len(G[:, 0])\n",
    "    for i in range(n - 1):\n",
    "        if G[i, i] == 0:\n",
    "            return -1\n",
    "        for j in range(i + 1, n):\n",
    "            G[j] -= G[i] * G[j, i] / G[i, i]\n",
    "    \n",
    "    # Continuar com o Método de Gauss-Jordan\n",
    "    n = len(G[:, 0])\n",
    "    for i in range(n - 1, -1, -1):\n",
    "        G[i] /= G[i, i]\n",
    "        for j in range(i):\n",
    "            G[j] -= G[i] * G[j, i]\n",
    "    \n",
    "    # Retornar resultados\n",
    "    return G[:, n:]"
   ]
  },
  {
   "cell_type": "code",
   "execution_count": null,
   "metadata": {
    "collapsed": false,
    "deletable": true,
    "editable": true
   },
   "outputs": [],
   "source": [
    "# Cálculo da matriz inversa\n",
    "def inverse(A):\n",
    "    '''\n",
    "        Função utilizada para calcular a inversa de uma matriz quadrada não-singular dada A.\n",
    "    '''\n",
    "    \n",
    "    # Montar a matriz aumentada [A|I]\n",
    "    n = len(A[0])\n",
    "    I = np.zeros((n, n))\n",
    "    for i in range(n):\n",
    "        I[i, i] = 1\n",
    "    \n",
    "    # Encontrar a inversa pelo método de Gauss-Jordan\n",
    "    return gauss_jordan(A, I)"
   ]
  },
  {
   "cell_type": "code",
   "execution_count": null,
   "metadata": {
    "collapsed": false,
    "deletable": true,
    "editable": true
   },
   "outputs": [],
   "source": [
    "def jacobi(A, b, x):\n",
    "    '''\n",
    "        Função utilizada para encontrar a solução um sistema linear através do Método\n",
    "        Numérico de Jacobi. Dada uma matriz de coeficientes A, um vetor de termos\n",
    "        independentes b e uma aproximação inicial para os valores do vetor de incógnitas x,\n",
    "        esta função encontra novas aproximações para x.\n",
    "    '''\n",
    "    \n",
    "    for it in range(20):\n",
    "        x_novo = np.zeros(len(x))\n",
    "        for i in range(len(x)):\n",
    "            r = 0\n",
    "            for j in range(len(x)):\n",
    "                if i == j:\n",
    "                    continue\n",
    "                r += A[i, j] * x[j]\n",
    "            x_novo[i] = (b[i] - r) / A[i, i]\n",
    "        x = x_novo\n",
    "    return x"
   ]
  },
  {
   "cell_type": "code",
   "execution_count": null,
   "metadata": {
    "collapsed": false,
    "deletable": true,
    "editable": true
   },
   "outputs": [],
   "source": [
    "print('Eliminação de Gauss:')\n",
    "print(gauss(A, b))\n",
    "\n",
    "print('\\nMétodo de Gauss-Jordan:')\n",
    "print(gauss_jordan(A, b))\n",
    "\n",
    "print('\\nMétodo de Jacobi:')\n",
    "print(jacobi(A, b[:,0], np.ones(3)))"
   ]
  }
 ],
 "metadata": {
  "kernelspec": {
   "display_name": "Python 3",
   "language": "python",
   "name": "python3"
  },
  "language_info": {
   "codemirror_mode": {
    "name": "ipython",
    "version": 3
   },
   "file_extension": ".py",
   "mimetype": "text/x-python",
   "name": "python",
   "nbconvert_exporter": "python",
   "pygments_lexer": "ipython3",
   "version": "3.5.2"
  }
 },
 "nbformat": 4,
 "nbformat_minor": 2
}
