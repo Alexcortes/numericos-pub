{
 "cells": [
  {
   "cell_type": "code",
   "execution_count": 1,
   "metadata": {
    "collapsed": false,
    "deletable": true,
    "editable": true
   },
   "outputs": [],
   "source": [
    "# Primeiro passo: importar os módulos necessários\n",
    "import numpy as np\n",
    "from matplotlib import pyplot as plt\n",
    "%matplotlib inline"
   ]
  },
  {
   "cell_type": "code",
   "execution_count": 2,
   "metadata": {
    "collapsed": true,
    "deletable": true,
    "editable": true
   },
   "outputs": [],
   "source": [
    "# Segundo passo: definir uma função e sua derivada (para utilizar o Método de Newton)\n",
    "def f(x):\n",
    "    # return -x * np.e ** -x + 0.2\n",
    "    return x*x - 5\n",
    "\n",
    "def f_linha(x):\n",
    "    # return np.e ** -x * (x - 1)\n",
    "    return 2 * x"
   ]
  },
  {
   "cell_type": "code",
   "execution_count": 3,
   "metadata": {
    "collapsed": false,
    "deletable": true,
    "editable": true
   },
   "outputs": [
    {
     "data": {
      "image/png": "[encoded data removed]",
      "text/plain": [
       "<matplotlib.figure.Figure at 0x7f4062f8e240>"
      ]
     },
     "metadata": {},
     "output_type": "display_data"
    }
   ],
   "source": [
    "# Terceiro passo: visualizar a função definida\n",
    "x = np.linspace(0, 10, 100)\n",
    "y = f(x)\n",
    "\n",
    "def plot_function(interval_min, interval_max, point_inside_interval):\n",
    "    plt.plot(x, y)\n",
    "    plt.xlabel('x')\n",
    "    plt.ylabel('y = f(x)')\n",
    "    plt.title('Zeros de funções')\n",
    "    plt.grid()\n",
    "\n",
    "    [xmin, xmax, ymin, ymax] = plt.axis()\n",
    "    plt.plot([point_inside_interval, point_inside_interval], [ymin, ymax], 'k--')\n",
    "        \n",
    "    if interval_min != interval_max:\n",
    "        plt.plot([interval_min, interval_min], [ymin, ymax], 'k-')\n",
    "        plt.plot([interval_max, interval_max], [ymin, ymax], 'k-')\n",
    "    \n",
    "    plt.show()\n",
    "\n",
    "plot_function(0, 10, 10)"
   ]
  },
  {
   "cell_type": "code",
   "execution_count": 4,
   "metadata": {
    "collapsed": false,
    "deletable": true,
    "editable": true
   },
   "outputs": [
    {
     "name": "stdout",
     "output_type": "stream",
     "text": [
      " 1: f(+1.363636) = -3.140496\n",
      " 2: f(+1.640000) = -2.310400\n",
      " 3: f(+1.838488) = -1.619962\n",
      " 4: f(+1.975327) = -1.098085\n",
      " 5: f(+2.067022) = -0.727419\n",
      " 6: f(+2.127304) = -0.474579\n",
      " 7: f(+2.166437) = -0.306551\n",
      " 8: f(+2.191633) = -0.196743\n",
      " 9: f(+2.207771) = -0.125748\n",
      "10: f(+2.218072) = -0.080159\n",
      "11: f(+2.224632) = -0.051012\n",
      "12: f(+2.228805) = -0.032428\n",
      "13: f(+2.231457) = -0.020600\n",
      "14: f(+2.233141) = -0.013081\n",
      "15: f(+2.234210) = -0.008304\n",
      "16: f(+2.234889) = -0.005271\n",
      "17: f(+2.235320) = -0.003345\n",
      "18: f(+2.235593) = -0.002123\n",
      "19: f(+2.235767) = -0.001347\n",
      "20: f(+2.235877) = -0.000855\n",
      "21: f(+2.235947) = -0.000542\n"
     ]
    }
   ],
   "source": [
    "# Métodos da Bisseção e Posição Falsa\n",
    "# -----------------------------------\n",
    "\n",
    "# Definir o intervalo inicial\n",
    "A = 1\n",
    "B = 10\n",
    "\n",
    "# Definir condições de parada\n",
    "x_tol = 0.0001\n",
    "y_tol = 0.0001\n",
    "x_anterior = B\n",
    "\n",
    "# Definir variável auxiliar para contagem de iterações\n",
    "counter = 1\n",
    "\n",
    "while True:\n",
    "    # Encontrar a próxima aproximação da raíz da função\n",
    "#     xi = (B + A) / 2                           # Método da Bisseção\n",
    "    xi = (A * f(B) - B * f(A)) / (f(B) - f(A)) # Método da Posição Falsa\n",
    "\n",
    "    # Visualizar o gráfico\n",
    "    # plot_function(A, B, xi)\n",
    "    print('%2d: f(%+.6f) = %+.6f' % (counter, xi, f(xi)))\n",
    "    counter += 1\n",
    "\n",
    "    # Definir o novo intervalo\n",
    "    if f(A) * f(xi) < 0:\n",
    "        B = xi\n",
    "    elif f(A) * f(xi) == 0:\n",
    "        print('raiz encontrada: %.6lf' % xi)\n",
    "    else:\n",
    "        A = xi\n",
    "\n",
    "    # Checar as condições de parada\n",
    "    # Eixo Y\n",
    "    if abs(f(xi)) < y_tol:\n",
    "        break\n",
    "    # Eixo X\n",
    "    if abs(x_anterior - xi) < x_tol:\n",
    "        break\n",
    "    x_anterior = xi"
   ]
  },
  {
   "cell_type": "code",
   "execution_count": null,
   "metadata": {
    "collapsed": false,
    "deletable": true,
    "editable": true
   },
   "outputs": [],
   "source": [
    "# Métodos da Posição Falsa com o algoritmo de Illinois\n",
    "# ----------------------------------------------------\n",
    "\n",
    "# Definir o intervalo inicial\n",
    "A = 1\n",
    "B = 10\n",
    "\n",
    "# Definir condições de parada\n",
    "x_tol = 0.0001\n",
    "y_tol = 0.0001\n",
    "x_anterior = B\n",
    "\n",
    "# Definir variável auxiliar para o algoritmo de Illinois\n",
    "interval_chosen = 0\n",
    "\n",
    "# Definir variável auxiliar para contagem de iterações\n",
    "counter = 1\n",
    "\n",
    "while True:\n",
    "    # Encontrar a próxima aproximação da raíz da função\n",
    "    if interval_chosen == 2:\n",
    "        xi = (A * (f(B)/2) - B * f(A)) / ((f(B)/2) - f(A))\n",
    "        interval_chosen -= 1\n",
    "    elif interval_chosen == -2:\n",
    "        xi = (A * f(B) - B * (f(A)/2)) / (f(B) - (f(A)/2))\n",
    "        interval_chosen += 1\n",
    "    else:\n",
    "        xi = (A * f(B) - B * f(A)) / (f(B) - f(A))\n",
    "\n",
    "    # Visualizar o gráfico\n",
    "    # plot_function(A, B, xi)\n",
    "    print('%2d: f(%+.6f) = %+.6f' % (counter, xi, f(xi)))\n",
    "    counter += 1\n",
    "\n",
    "    # Definir o novo intervalo\n",
    "    if f(A) * f(xi) < 0:\n",
    "        B = xi\n",
    "        interval_chosen -= 1\n",
    "    elif f(A) * f(xi) == 0:\n",
    "        print('raiz encontrada: %.6lf' % xi)\n",
    "    else:\n",
    "        A = xi\n",
    "        interval_chosen += 1\n",
    "\n",
    "    # Checar as condições de parada\n",
    "    # Eixo Y\n",
    "    if abs(f(xi)) < y_tol:\n",
    "        break\n",
    "    # Eixo X\n",
    "    if abs(x_anterior - xi) < x_tol:\n",
    "        break\n",
    "    x_anterior = xi"
   ]
  },
  {
   "cell_type": "code",
   "execution_count": 8,
   "metadata": {
    "collapsed": false,
    "deletable": true,
    "editable": true
   },
   "outputs": [
    {
     "name": "stdout",
     "output_type": "stream",
     "text": [
      " 1: f(+2.000000) = -1.000000\n",
      " 2: f(+2.250000) = +0.062500\n",
      " 3: f(+2.236111) = +0.000193\n",
      " 4: f(+2.236068) = +0.000000001860\n"
     ]
    }
   ],
   "source": [
    "# Métodos de Newton e Ponto Fixo\n",
    "# ------------------------------\n",
    "\n",
    "# Definir ponto inicial\n",
    "xi = 2\n",
    "\n",
    "# Definir condições de parada\n",
    "x_tol = 0.0001\n",
    "y_tol = 0.0001\n",
    "x_anterior = xi\n",
    "\n",
    "# Definir variável auxiliar para contagem de iterações\n",
    "counter = 1\n",
    "\n",
    "while True:\n",
    "    # Visualizar o gráfico\n",
    "    # plot_function(0, 0, xi)\n",
    "    print('%2d: f(%+.6f) = %+.6f' % (counter, xi, f(xi)))\n",
    "    counter += 1\n",
    "\n",
    "    # Encontrar a próxima aproximação da raíz\n",
    "    xi = xi - f(xi) / f_linha(xi) # Método de Newton\n",
    "    #xi = xi + f(xi) * 0.1 # Método do Ponto Fixo\n",
    "\n",
    "    # Checar as condições de parada\n",
    "    # Eixo Y\n",
    "    if abs(f(xi)) < y_tol:\n",
    "        break\n",
    "    # Eixo X\n",
    "    if abs(x_anterior - xi) < x_tol:\n",
    "        break\n",
    "    x_anterior = xi\n",
    "\n",
    "# plot_function(0, 0, xi)\n",
    "print('%2d: f(%+.6f) = %+.12f' % (counter, xi, f(xi)))"
   ]
  },
  {
   "cell_type": "code",
   "execution_count": 7,
   "metadata": {
    "collapsed": false,
    "deletable": true,
    "editable": true
   },
   "outputs": [
    {
     "name": "stdout",
     "output_type": "stream",
     "text": [
      " 1: f(+3.000000) = +4.000000\n",
      " 2: f(+2.000000) = -1.000000\n",
      " 3: f(+2.200000) = -0.160000\n",
      " 4: f(+2.238095) = +0.009070\n",
      " 5: f(+2.236052) = -0.000073679751\n"
     ]
    }
   ],
   "source": [
    "# Método da Secante\n",
    "# -----------------\n",
    "\n",
    "# Definir pontos iniciais\n",
    "x_anterior = 1\n",
    "xi = 3\n",
    "\n",
    "# Definir condições de parada\n",
    "x_tol = 0.0001\n",
    "y_tol = 0.0001\n",
    "\n",
    "# Definir variável auxiliar para contagem de iterações\n",
    "counter = 1\n",
    "\n",
    "while True:\n",
    "    # Visualizar o gráfico\n",
    "    # plot_function(0, 0, xi)\n",
    "    print('%2d: f(%+.6f) = %+.6f' % (counter, xi, f(xi)))\n",
    "    counter += 1\n",
    "\n",
    "    # Encontrar a próxima aproximação da raíz\n",
    "    derivada = (f(xi) - f(x_anterior)) / (xi - x_anterior)\n",
    "    x_anterior = xi\n",
    "    xi = xi - f(xi) / derivada\n",
    "\n",
    "    # Checar as condições de parada\n",
    "    # Eixo Y\n",
    "    if abs(f(xi)) < y_tol:\n",
    "        break\n",
    "    # Eixo X\n",
    "    if abs(x_anterior - xi) < x_tol:\n",
    "        break\n",
    "\n",
    "# plot_function(0, 0, xi)\n",
    "print('%2d: f(%+.6f) = %+.12f' % (counter, xi, f(xi)))"
   ]
  },
  {
   "cell_type": "code",
   "execution_count": null,
   "metadata": {
    "collapsed": true
   },
   "outputs": [],
   "source": []
  }
 ],
 "metadata": {
  "kernelspec": {
   "display_name": "Python 3",
   "language": "python",
   "name": "python3"
  },
  "language_info": {
   "codemirror_mode": {
    "name": "ipython",
    "version": 3
   },
   "file_extension": ".py",
   "mimetype": "text/x-python",
   "name": "python",
   "nbconvert_exporter": "python",
   "pygments_lexer": "ipython3",
   "version": "3.5.2"
  }
 },
 "nbformat": 4,
 "nbformat_minor": 2
}
