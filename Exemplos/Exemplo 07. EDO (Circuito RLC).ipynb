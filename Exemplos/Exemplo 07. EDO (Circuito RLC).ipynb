{
 "cells": [
  {
   "cell_type": "code",
   "execution_count": 1,
   "metadata": {
    "collapsed": true,
    "deletable": true,
    "editable": true
   },
   "outputs": [],
   "source": [
    "# Módulos necessários\n",
    "import numpy as np\n",
    "from matplotlib import pyplot as plt\n",
    "%matplotlib inline"
   ]
  },
  {
   "cell_type": "code",
   "execution_count": 2,
   "metadata": {
    "collapsed": false,
    "deletable": true,
    "editable": true
   },
   "outputs": [],
   "source": [
    "# Constantes\n",
    "R = 1\n",
    "L = 1\n",
    "C = 1\n",
    "t = np.linspace(0, 20, 50)\n",
    "delta = t[1] - t[0]\n",
    "\n",
    "# Condições iniciais\n",
    "q0 = 1\n",
    "I0 = 0\n",
    "\n",
    "# EDOs\n",
    "def dq(t, q, I):\n",
    "    return I\n",
    "def dI(t, q, I):\n",
    "    return - (R*I + q/C) / L"
   ]
  },
  {
   "cell_type": "code",
   "execution_count": 3,
   "metadata": {
    "collapsed": false,
    "deletable": true,
    "editable": true
   },
   "outputs": [],
   "source": [
    "# Solução analítica\n",
    "q_analytical = 2 / 3**0.5 * np.e**(-t / 2) * np.cos(3**.5 / 2 * t - np.pi / 6)"
   ]
  },
  {
   "cell_type": "code",
   "execution_count": 4,
   "metadata": {
    "collapsed": true,
    "deletable": true,
    "editable": true
   },
   "outputs": [],
   "source": [
    "# Método de Euler\n",
    "q_euler = np.zeros(len(t))\n",
    "I = np.zeros(len(t))\n",
    "\n",
    "q_euler[0] = q0\n",
    "I[0] = I0\n",
    "\n",
    "for i in range(1, len(t)):\n",
    "    q_euler[i] = q_euler[i-1] + delta * dq(t[i-1], q_euler[i-1], I[i-1])\n",
    "    I[i] = I[i-1] + delta * dI(t[i-1], q_euler[i-1], I[i-1])"
   ]
  },
  {
   "cell_type": "code",
   "execution_count": 5,
   "metadata": {
    "collapsed": false,
    "deletable": true,
    "editable": true
   },
   "outputs": [],
   "source": [
    "# Método de Euler Modificado\n",
    "q_emod = np.zeros(len(t))\n",
    "I = np.zeros(len(t))\n",
    "\n",
    "q_emod[0] = q0\n",
    "I[0] = I0\n",
    "\n",
    "for i in range(1, len(t)):\n",
    "    k1 = delta * dq(t[i-1], q_emod[i-1], I[i-1])\n",
    "    l1 = delta * dI(t[i-1], q_emod[i-1], I[i-1])\n",
    "    \n",
    "    k2 = delta * dq(t[i-1] + delta, q_emod[i-1] + k1, I[i-1] + l1)\n",
    "    l2 = delta * dI(t[i-1] + delta, q_emod[i-1] + k1, I[i-1] + l1)\n",
    "\n",
    "    q_emod[i] = q_emod[i-1] + (k1 + k2) / 2\n",
    "    I[i] = I[i-1] + (l1 + l2) / 2"
   ]
  },
  {
   "cell_type": "code",
   "execution_count": 6,
   "metadata": {
    "collapsed": false,
    "deletable": true,
    "editable": true
   },
   "outputs": [],
   "source": [
    "# Método do Ponto Médio\n",
    "q_midpoint = np.zeros(len(t))\n",
    "I = np.zeros(len(t))\n",
    "\n",
    "q_midpoint[0] = q0\n",
    "I[0] = I0\n",
    "\n",
    "for i in range(1, len(t)):\n",
    "    k1 = delta * dq(t[i-1], q_midpoint[i-1], I[i-1])\n",
    "    l1 = delta * dI(t[i-1], q_midpoint[i-1], I[i-1])\n",
    "    \n",
    "    k2 = delta * dq(t[i-1] + delta/2, q_midpoint[i-1] + k1/2, I[i-1] + l1/2)\n",
    "    l2 = delta * dI(t[i-1] + delta/2, q_midpoint[i-1] + k1/2, I[i-1] + l1/2)\n",
    "\n",
    "    q_midpoint[i] = q_midpoint[i-1] + k2\n",
    "    I[i] = I[i-1] + l2"
   ]
  },
  {
   "cell_type": "code",
   "execution_count": 7,
   "metadata": {
    "collapsed": false,
    "deletable": true,
    "editable": true
   },
   "outputs": [],
   "source": [
    "# Método simples de Runge-Kutta de quarta ordem\n",
    "q_rk4 = np.zeros(len(t))\n",
    "I = np.zeros(len(t))\n",
    "\n",
    "q_rk4[0] = q0\n",
    "I[0] = I0\n",
    "\n",
    "for i in range(1, len(t)):\n",
    "    k1 = delta * dq(t[i-1], q_rk4[i-1], I[i-1])\n",
    "    l1 = delta * dI(t[i-1], q_rk4[i-1], I[i-1])\n",
    "    \n",
    "    k2 = delta * dq(t[i-1] + delta/2, q_rk4[i-1] + k1/2, I[i-1] + l1/2)\n",
    "    l2 = delta * dI(t[i-1] + delta/2, q_rk4[i-1] + k1/2, I[i-1] + l1/2)\n",
    "    \n",
    "    k3 = delta * dq(t[i-1] + delta/2, q_rk4[i-1] + k2/2, I[i-1] + l2/2)\n",
    "    l3 = delta * dI(t[i-1] + delta/2, q_rk4[i-1] + k2/2, I[i-1] + l2/2)\n",
    "    \n",
    "    k4 = delta * dq(t[i-1] + delta, q_rk4[i-1] + k3, I[i-1] + l3)\n",
    "    l4 = delta * dI(t[i-1] + delta, q_rk4[i-1] + k3, I[i-1] + l3)\n",
    "\n",
    "    q_rk4[i] = q_rk4[i-1] + (k1 + 2*k2 + 2*k3 + k4) / 6\n",
    "    I[i] = I[i-1] + (l1 + 2*l2 + 2*l3 + l4) / 6"
   ]
  },
  {
   "cell_type": "code",
   "execution_count": 8,
   "metadata": {
    "collapsed": false,
    "deletable": true,
    "editable": true
   },
   "outputs": [
    {
     "data": {
      "text/plain": [
       "<matplotlib.legend.Legend at 0x7f272d80df60>"
      ]
     },
     "execution_count": 8,
     "metadata": {},
     "output_type": "execute_result"
    },
    {
     "data": {
      "image/png": "[encoded data removed]",
      "text/plain": [
       "<matplotlib.figure.Figure at 0x7f272f893400>"
      ]
     },
     "metadata": {},
     "output_type": "display_data"
    }
   ],
   "source": [
    "# Resultados\n",
    "plt.plot(t, q_analytical)\n",
    "plt.plot(t, q_euler)\n",
    "plt.plot(t, q_emod)\n",
    "plt.plot(t, q_midpoint)\n",
    "plt.plot(t, q_rk4)\n",
    "\n",
    "plt.legend(['Solução Analítica', 'Método de Euler', 'Euler Modificado', 'Ponto Médio', 'Runge-Kutta de 4ª ordem'])"
   ]
  }
 ],
 "metadata": {
  "kernelspec": {
   "display_name": "Python 3",
   "language": "python",
   "name": "python3"
  },
  "language_info": {
   "codemirror_mode": {
    "name": "ipython",
    "version": 3
   },
   "file_extension": ".py",
   "mimetype": "text/x-python",
   "name": "python",
   "nbconvert_exporter": "python",
   "pygments_lexer": "ipython3",
   "version": "3.5.2"
  }
 },
 "nbformat": 4,
 "nbformat_minor": 2
}
