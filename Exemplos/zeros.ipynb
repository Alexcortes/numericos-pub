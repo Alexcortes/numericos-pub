{
 "cells": [
  {
   "cell_type": "code",
   "execution_count": 2,
   "metadata": {
    "collapsed": true
   },
   "outputs": [],
   "source": [
    "import numpy as np\n",
    "import matplotlib.pyplot as plt"
   ]
  },
  {
   "cell_type": "code",
   "execution_count": 42,
   "metadata": {
    "collapsed": true
   },
   "outputs": [],
   "source": [
    "# Define função para testar o método da biseção\n",
    "\n",
    "def g(x):\n",
    "    return np.cos(x/2)\n",
    "\n",
    "def g_linha(x):\n",
    "    return -0.5 * np.sin(x/2)"
   ]
  },
  {
   "cell_type": "code",
   "execution_count": 39,
   "metadata": {
    "collapsed": false
   },
   "outputs": [
    {
     "name": "stdout",
     "output_type": "stream",
     "text": [
      "   x: 3.14159265359\n",
      "g(x): -1.60812264968e-16\n"
     ]
    }
   ],
   "source": [
    "N = 100         # Número de iterações\n",
    "x0, x1 = 3, 4   # Intervalo inicial\n",
    "y0, y1 = g(x0), g(x1)\n",
    "\n",
    "# Decide qual dos dois pontos corresponde a (xa, ya)\n",
    "# onde xa, ya representa o ponto abaixo de zero e \n",
    "# xb, yb representa o ponto acima de zero.\n",
    "if y0 < y1:\n",
    "    xa, ya = x0, y0\n",
    "    xb, yb = x1, y1\n",
    "else:\n",
    "    xa, ya = x1, y1\n",
    "    xb, yb = x0, y0\n",
    "    \n",
    "for i in range(N):\n",
    "    # Calcula novo valor dentro do intervalo\n",
    "    #x_med = (xa + xb) / 2 \n",
    "    x_med = (xa * yb - xb * ya) / (yb - ya)\n",
    "    y_med = g(x_med)\n",
    "    \n",
    "    # Determina se o novo valor corresponde a xa ou a xb\n",
    "    if y_med < 0:\n",
    "        xa, ya = x_med, y_med\n",
    "    elif y_med > 0:\n",
    "        xb, yb = x_med, y_med\n",
    "    else:\n",
    "        xa = xb = x_med\n",
    "        ya = yb = 0.0\n",
    "        break\n",
    "        \n",
    "# Decide qual é o melhor valor\n",
    "if abs(ya) < abs(yb):\n",
    "    resposta = xa\n",
    "else:\n",
    "    resposta = xb\n",
    "    \n",
    "print('   x:', resposta)\n",
    "print('g(x):', g(resposta))"
   ]
  },
  {
   "cell_type": "code",
   "execution_count": 40,
   "metadata": {
    "collapsed": false
   },
   "outputs": [
    {
     "data": {
      "text/plain": [
       "4.4408920985006262e-16"
      ]
     },
     "execution_count": 40,
     "metadata": {},
     "output_type": "execute_result"
    }
   ],
   "source": [
    "resposta - np.pi"
   ]
  },
  {
   "cell_type": "code",
   "execution_count": 41,
   "metadata": {
    "collapsed": false
   },
   "outputs": [
    {
     "data": {
      "text/plain": [
       "3.0060875477744275e-06"
      ]
     },
     "execution_count": 41,
     "metadata": {},
     "output_type": "execute_result"
    }
   ],
   "source": [
    "xa - xb"
   ]
  },
  {
   "cell_type": "code",
   "execution_count": 48,
   "metadata": {
    "collapsed": false
   },
   "outputs": [
    {
     "name": "stdout",
     "output_type": "stream",
     "text": [
      "   x: 3.14159265359\n",
      "g(x): 6.12323399574e-17\n"
     ]
    }
   ],
   "source": [
    "# Método de Newton\n",
    "x0 = 3\n",
    "N = 10\n",
    "for i in range(N):\n",
    "    x0 = x0 - g(x0) / g_linha(x0)\n",
    "\n",
    "print('   x:', x0)\n",
    "print('g(x):', g(x0))"
   ]
  },
  {
   "cell_type": "code",
   "execution_count": null,
   "metadata": {
    "collapsed": true
   },
   "outputs": [],
   "source": []
  }
 ],
 "metadata": {
  "kernelspec": {
   "display_name": "Python 3",
   "language": "python",
   "name": "python3"
  },
  "language_info": {
   "codemirror_mode": {
    "name": "ipython",
    "version": 3
   },
   "file_extension": ".py",
   "mimetype": "text/x-python",
   "name": "python",
   "nbconvert_exporter": "python",
   "pygments_lexer": "ipython3",
   "version": "3.6.0"
  }
 },
 "nbformat": 4,
 "nbformat_minor": 2
}
