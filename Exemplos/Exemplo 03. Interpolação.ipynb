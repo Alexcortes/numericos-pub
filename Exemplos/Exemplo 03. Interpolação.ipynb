{
 "cells": [
  {
   "cell_type": "code",
   "execution_count": 29,
   "metadata": {
    "collapsed": true,
    "deletable": true,
    "editable": true
   },
   "outputs": [],
   "source": [
    "# Primeiro passo: importar módulos necessários\n",
    "import numpy as np\n",
    "from matplotlib import pyplot as plt\n",
    "% matplotlib inline"
   ]
  },
  {
   "cell_type": "code",
   "execution_count": 30,
   "metadata": {
    "collapsed": false,
    "deletable": true,
    "editable": true
   },
   "outputs": [],
   "source": [
    "# Segundo passo: definir pontos\n",
    "x = np.array([0, 1, 2, 3, 4, 5])\n",
    "y = np.array([2, 4, 6, 5, 8, 7])"
   ]
  },
  {
   "cell_type": "code",
   "execution_count": 35,
   "metadata": {
    "collapsed": false,
    "deletable": true,
    "editable": true
   },
   "outputs": [
    {
     "data": {
      "text/plain": [
       "[<matplotlib.lines.Line2D at 0x7f0ed7dc7a20>]"
      ]
     },
     "execution_count": 35,
     "metadata": {},
     "output_type": "execute_result"
    },
    {
     "data": {
      "image/png": "[encoded data removed]",
      "text/plain": [
       "<matplotlib.figure.Figure at 0x7f0ed7dc7dd8>"
      ]
     },
     "metadata": {},
     "output_type": "display_data"
    }
   ],
   "source": [
    "# Interpolação polinomial utilizando o método de Vandermonde\n",
    "\n",
    "# Definir grau do polinômio\n",
    "degree = len(x) - 1\n",
    "\n",
    "# Montar matriz de Vandermonde\n",
    "A = np.zeros((degree + 1, degree + 1))\n",
    "for i in range(degree + 1):\n",
    "    A[:,i] = x**(degree - i)\n",
    "\n",
    "# Resolver sistema linear para encontrar os coeficientes do polinômio interpolante\n",
    "# p(x) = C[0] * x**degree + C[1] * x**(degree - 1) + ... + C[degree - 1] * x + C[degree]\n",
    "C = np.linalg.solve(A, y)\n",
    "\n",
    "# Construir polinômio interpolante a patir de seus coeficientes\n",
    "_x = np.linspace(min(x), max(x), 100)\n",
    "_y = np.zeros(len(_x))\n",
    "for [i, coef] in enumerate(C):\n",
    "    _y += coef * _x**(degree - i)\n",
    "\n",
    "# Visualizar polinômio interpolante encontrado\n",
    "plt.plot(x, y, 'o')\n",
    "plt.plot(_x, _y)"
   ]
  }
 ],
 "metadata": {
  "kernelspec": {
   "display_name": "Python 3",
   "language": "python",
   "name": "python3"
  },
  "language_info": {
   "codemirror_mode": {
    "name": "ipython",
    "version": 3
   },
   "file_extension": ".py",
   "mimetype": "text/x-python",
   "name": "python",
   "nbconvert_exporter": "python",
   "pygments_lexer": "ipython3",
   "version": "3.5.2"
  }
 },
 "nbformat": 4,
 "nbformat_minor": 2
}
