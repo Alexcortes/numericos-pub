{
 "cells": [
  {
   "cell_type": "code",
   "execution_count": null,
   "metadata": {
    "collapsed": true,
    "deletable": true,
    "editable": true
   },
   "outputs": [],
   "source": [
    "# Importar módulos\n",
    "import numpy as np\n",
    "from matplotlib import pyplot as plt\n",
    "%matplotlib inline"
   ]
  },
  {
   "cell_type": "code",
   "execution_count": null,
   "metadata": {
    "collapsed": false,
    "deletable": true,
    "editable": true
   },
   "outputs": [],
   "source": [
    "# Definição de constantes\n",
    "R = 1\n",
    "C = 1\n",
    "q0 = 1\n",
    "t = np.linspace(0, 5, 10)\n",
    "delta = t[1] - t[0]"
   ]
  },
  {
   "cell_type": "code",
   "execution_count": null,
   "metadata": {
    "collapsed": true,
    "deletable": true,
    "editable": true
   },
   "outputs": [],
   "source": [
    "# Declarar a EDO: q' = f(t,q)\n",
    "def f(t, q):\n",
    "    return -q / (R * C)"
   ]
  },
  {
   "cell_type": "code",
   "execution_count": null,
   "metadata": {
    "collapsed": false,
    "deletable": true,
    "editable": true
   },
   "outputs": [],
   "source": [
    "# Solução analítica\n",
    "q_analytical = q0 * np.e**(-t / R / C)"
   ]
  },
  {
   "cell_type": "code",
   "execution_count": null,
   "metadata": {
    "collapsed": false,
    "deletable": true,
    "editable": true
   },
   "outputs": [],
   "source": [
    "# Solução numérica: Método de Euler\n",
    "q_euler = np.zeros(len(t))\n",
    "q_euler[0] = q0\n",
    "for i in range(1,len(t)):\n",
    "    q_euler[i] = q_euler[i-1] + delta * f(t[i-1], q_euler[i-1])"
   ]
  },
  {
   "cell_type": "code",
   "execution_count": null,
   "metadata": {
    "collapsed": true,
    "deletable": true,
    "editable": true
   },
   "outputs": [],
   "source": [
    "# Solução numérica: Método de Euler Modificado\n",
    "q_euler_mod = np.zeros(len(t))\n",
    "q_euler_mod[0] = q0\n",
    "for i in range(1,len(t)):\n",
    "    q_pred = q_euler_mod[i-1] + delta * f(t[i-1], q_euler_mod[i-1])\n",
    "    increment = delta * 0.5 * (f(t[i-1], q_euler_mod[i-1]) + f(t[i], q_pred))\n",
    "    q_euler_mod[i] = q_euler_mod[i-1] + increment"
   ]
  },
  {
   "cell_type": "code",
   "execution_count": null,
   "metadata": {
    "collapsed": true
   },
   "outputs": [],
   "source": [
    "# Solução numérica: Método do Ponto Médio\n",
    "q_midpoint = np.zeros(len(t))\n",
    "q_midpoint[0] = q0\n",
    "for i in range(1,len(t)):\n",
    "    k1 = delta * f(t[i-1], q_midpoint[i-1])\n",
    "    k2 = delta * f(t[i-1] + delta / 2, q_midpoint[i-1] + k1 / 2)\n",
    "    q_midpoint[i] = q_midpoint[i-1] + k2"
   ]
  },
  {
   "cell_type": "code",
   "execution_count": null,
   "metadata": {
    "collapsed": true,
    "deletable": true,
    "editable": true
   },
   "outputs": [],
   "source": [
    "# Solução numérica: Método simples de Runge-Kutta de quarta ordem\n",
    "q_rk4 = np.zeros(len(t))\n",
    "q_rk4[0] = q0\n",
    "for i in range(1,len(t)):\n",
    "    k1 = delta * f(t[i-1], q_rk4[i-1])\n",
    "    k2 = delta * f(t[i-1] + delta / 2, q_rk4[i-1] + k1 / 2)\n",
    "    k3 = delta * f(t[i-1] + delta / 2, q_rk4[i-1] + k2 / 2)\n",
    "    k4 = delta * f(t[i-1] + delta, q_rk4[i-1] + k3)\n",
    "    q_rk4[i] = q_rk4[i-1] + (k1 + 2*k2 + 2*k3 + k4) / 6"
   ]
  },
  {
   "cell_type": "code",
   "execution_count": null,
   "metadata": {
    "collapsed": false,
    "deletable": true,
    "editable": true
   },
   "outputs": [],
   "source": [
    "# Resultados\n",
    "plt.plot(t, q_analytical)\n",
    "plt.plot(t, q_euler)\n",
    "plt.plot(t, q_euler_mod)\n",
    "plt.plot(t, q_midpoint)\n",
    "plt.plot(t, q_rk4)\n",
    "plt.legend(['Solução Analítica', 'Método de Euler', 'Euler Modificado',\n",
    "            'Método do Ponto Médio', 'Runge-Kutta 4ª ordem'])"
   ]
  }
 ],
 "metadata": {
  "kernelspec": {
   "display_name": "Python 3",
   "language": "python",
   "name": "python3"
  },
  "language_info": {
   "codemirror_mode": {
    "name": "ipython",
    "version": 3
   },
   "file_extension": ".py",
   "mimetype": "text/x-python",
   "name": "python",
   "nbconvert_exporter": "python",
   "pygments_lexer": "ipython3",
   "version": "3.5.2"
  }
 },
 "nbformat": 4,
 "nbformat_minor": 2
}
