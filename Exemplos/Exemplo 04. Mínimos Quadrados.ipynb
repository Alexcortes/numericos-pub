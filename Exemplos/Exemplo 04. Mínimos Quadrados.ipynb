{
 "cells": [
  {
   "cell_type": "code",
   "execution_count": null,
   "metadata": {
    "collapsed": true,
    "deletable": true,
    "editable": true
   },
   "outputs": [],
   "source": [
    "# Importar módulos necessários\n",
    "import numpy as np\n",
    "from matplotlib import pyplot as plt\n",
    "% matplotlib inline"
   ]
  },
  {
   "cell_type": "code",
   "execution_count": null,
   "metadata": {
    "collapsed": false,
    "deletable": true,
    "editable": true
   },
   "outputs": [],
   "source": [
    "# Definir funções\n",
    "def f0(x):\n",
    "    return x * x\n",
    "def f1(x):\n",
    "    return x\n",
    "def f2(x):\n",
    "    return 1\n",
    "\n",
    "f = np.array([f0, f1, f2])\n",
    "def F(C, x):\n",
    "    ans = 0\n",
    "    for i in range(C.shape[0]):\n",
    "        ans += C[i] * f[i](x)\n",
    "    return ans"
   ]
  },
  {
   "cell_type": "code",
   "execution_count": null,
   "metadata": {
    "collapsed": false,
    "deletable": true,
    "editable": true
   },
   "outputs": [],
   "source": [
    "# Definir pontos\n",
    "x = np.linspace(0, 10, 100).reshape(100, 1)\n",
    "y = 100 * np.random.random((100, 1)) + x * x - 3 * x\n",
    "# plt.plot(x[0:], y[0:], 'o')"
   ]
  },
  {
   "cell_type": "code",
   "execution_count": null,
   "metadata": {
    "collapsed": false,
    "deletable": true,
    "editable": true
   },
   "outputs": [],
   "source": [
    "# Montar matriz A\n",
    "A = np.ones((x.shape[0], f.shape[0]))\n",
    "for i in range(x.shape[0]):\n",
    "    for j in range(f.shape[0]):\n",
    "        A[i,j] = f[j](x[i])"
   ]
  },
  {
   "cell_type": "code",
   "execution_count": null,
   "metadata": {
    "collapsed": false,
    "deletable": true,
    "editable": true
   },
   "outputs": [],
   "source": [
    "# Encontrar solução para a equação normal\n",
    "C = np.linalg.solve(np.dot(A.transpose(), A), np.dot(A.transpose(), y))"
   ]
  },
  {
   "cell_type": "code",
   "execution_count": null,
   "metadata": {
    "collapsed": false,
    "deletable": true,
    "editable": true
   },
   "outputs": [],
   "source": [
    "# Visualizar resultados\n",
    "plt.plot(x[0:], y[0:], 'o')\n",
    "plt.plot(x[0:], F(C, x))"
   ]
  },
  {
   "cell_type": "code",
   "execution_count": null,
   "metadata": {
    "collapsed": true,
    "deletable": true,
    "editable": true
   },
   "outputs": [],
   "source": [
    "# Definir fórmula para encontrar o Erro Quadrático\n",
    "def eq(y, A, C):\n",
    "    term_1 = np.dot(y.transpose(), y)\n",
    "    term_2 = - 2 * np.dot(np.dot(C.transpose(), A.transpose()), y)\n",
    "    term_3 = np.dot(np.dot(C.transpose(), A.transpose()), np.dot(A, C))\n",
    "    return term_1 + term_2 + term_3"
   ]
  },
  {
   "cell_type": "code",
   "execution_count": null,
   "metadata": {
    "collapsed": false,
    "deletable": true,
    "editable": true
   },
   "outputs": [],
   "source": [
    "eq(y, A, C)"
   ]
  }
 ],
 "metadata": {
  "kernelspec": {
   "display_name": "Python 3",
   "language": "python",
   "name": "python3"
  },
  "language_info": {
   "codemirror_mode": {
    "name": "ipython",
    "version": 3
   },
   "file_extension": ".py",
   "mimetype": "text/x-python",
   "name": "python",
   "nbconvert_exporter": "python",
   "pygments_lexer": "ipython3",
   "version": "3.5.2"
  }
 },
 "nbformat": 4,
 "nbformat_minor": 2
}
