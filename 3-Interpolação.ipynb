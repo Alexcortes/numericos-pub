{
 "cells": [
  {
   "cell_type": "code",
   "execution_count": 1,
   "metadata": {
    "collapsed": true,
    "deletable": true,
    "editable": true
   },
   "outputs": [],
   "source": [
    "import numpy as np\n",
    "import matplotlib.pyplot as plt\n",
    "\n",
    "%matplotlib inline"
   ]
  },
  {
   "cell_type": "markdown",
   "metadata": {
    "deletable": true,
    "editable": true
   },
   "source": [
    "# Interpolação\n",
    "\n",
    "Nesta aula estudaremos métodos de interpolação de funções de uma variável. Dado um conjunto de valores de uma função $y = f(x)$ nos pontos ordenados $x_0$, $x_1$,..., $x_n$, nosso objetivo é encontrar $f(x)$ para um valor arbitrário de $x$. Quando $x_0 \\leq x \\leq x_n$, este é um problema de interpolação. Se $x < x_0$ ou $x_n < x$, então este é um problema de extrapolação.\n",
    "\n",
    "Existem diversos métodos para solucionar problemas de interpolação, cada método com suas características de precisão, eficiência, suavidade, quantidade de dados necessária, entre outras. Todas essas características são levadas em conta, na escolha de um método de interpolação.\n",
    "\n",
    "Independentemente do método de interpolação, o resultado é uma função ou mais funções definidas no intervalo $[x_0,x_n]$ que, idealmente, reproduzem a função $y$ original. Esta função (ou conjunto de funções) é chamada de **interpolante**.\n",
    "\n",
    "Como exemplo, considere os pontos abaixo como pontos conhecidos de uma função $y = f(x)$."
   ]
  },
  {
   "cell_type": "code",
   "execution_count": 2,
   "metadata": {
    "collapsed": true,
    "deletable": true,
    "editable": true
   },
   "outputs": [],
   "source": [
    "# Definir pontos iniciais\n",
    "x = np.arange(2, 9)\n",
    "y = np.cos(x)"
   ]
  },
  {
   "cell_type": "code",
   "execution_count": 3,
   "metadata": {
    "collapsed": false,
    "deletable": true,
    "editable": true
   },
   "outputs": [
    {
     "data": {
      "image/png": "[encoded data removed]",
      "text/plain": [
       "<matplotlib.figure.Figure at 0x7fdd92e0c208>"
      ]
     },
     "metadata": {},
     "output_type": "display_data"
    }
   ],
   "source": [
    "# Gráfico\n",
    "plt.plot(x, y, 'bo')\n",
    "plt.grid(True)"
   ]
  },
  {
   "cell_type": "markdown",
   "metadata": {
    "deletable": true,
    "editable": true
   },
   "source": [
    "## Interpolação Constante\n",
    "\n",
    "Este é o método mais simples de interpolação. Neste método, o valor da função $f(x)$ para um $x$ arbitrário será exatamente o valor da função no ponto mais próximo.\n",
    "\n",
    "A maior vantagem deste método é sua eficiência, a única tarefa é encontrar o ponto $x_i \\in \\{x_0, x_1, ..., x_n\\}$ mais próximo ao $x$ arbitrário desejado e retornar então $f(x_i)$. Este método, porém, só é utilizado quando há a necessidade de um algoritmo extremamente eficiente. Caso contrário, este método não é utilizado devido à sua baixa precisão. Além disso, o interpolante não é contínuo nos pontos médios entre todo $x_i$ e $x_{i+1}$."
   ]
  },
  {
   "cell_type": "code",
   "execution_count": 4,
   "metadata": {
    "collapsed": false,
    "deletable": true,
    "editable": true
   },
   "outputs": [
    {
     "data": {
      "image/png": "[encoded data removed]",
      "text/plain": [
       "<matplotlib.figure.Figure at 0x7fdd90b8bd68>"
      ]
     },
     "metadata": {},
     "output_type": "display_data"
    }
   ],
   "source": [
    "plt.plot(x, y, 'bo')\n",
    "plt.grid(True)\n",
    "\n",
    "dx = x[1] - x[0]\n",
    "xsize = x.shape[0]\n",
    "for i in range(xsize):\n",
    "    xmin = x[i] if i == 0 else x[i] - dx/2\n",
    "    xmax = x[i] if i == xsize - 1 else x[i] + dx/2\n",
    "    plt.plot([xmin, xmax], [y[i], y[i]], 'k-')"
   ]
  },
  {
   "cell_type": "markdown",
   "metadata": {
    "deletable": true,
    "editable": true
   },
   "source": [
    "### Implementação\n",
    "\n",
    "Vamos implementar a função `constant()` que, dados os vetores $x$ e $y$, retorne o valor aproximado da função $f(x)$ para um valor arbitrário $x_0 \\leq x_i \\leq x_n$."
   ]
  },
  {
   "cell_type": "code",
   "execution_count": 5,
   "metadata": {
    "collapsed": true,
    "deletable": true,
    "editable": true
   },
   "outputs": [],
   "source": [
    "def constant(x, y, xi):\n",
    "    \"\"\"\n",
    "    Encontrar o valor aproximado de f(xi) utilizando o método da interpolação constante.\n",
    "\n",
    "    Args:\n",
    "        x: pontos no eixo x.\n",
    "        y: pontos no eixo y.\n",
    "        xi: ponto onde deseja-se saber o valor de f(x).\n",
    "    \n",
    "    Returns:\n",
    "        O valor aproximado de f(x) no ponto xi.\n",
    "    \"\"\"\n",
    "    \n",
    "    # Retorna -1 caso xi esteja fora do intervalo\n",
    "    if xi < x[0] or xi > x[-1]:\n",
    "        return -1\n",
    "    \n",
    "    nearest = (0, abs(xi-x[0]))\n",
    "    xsize = x.shape[0]\n",
    "    for i in range(xsize):\n",
    "        if abs(xi - x[i]) < nearest[1]:\n",
    "            nearest = (i, abs(xi - x[i]))\n",
    "    \n",
    "    return y[nearest[0]]"
   ]
  },
  {
   "cell_type": "markdown",
   "metadata": {
    "deletable": true,
    "editable": true
   },
   "source": [
    "Agora utilizamos a função `constant()` para encontrar o valor de $f(\\frac{3\\pi}{2})$:"
   ]
  },
  {
   "cell_type": "code",
   "execution_count": 6,
   "metadata": {
    "collapsed": false,
    "deletable": true,
    "editable": true
   },
   "outputs": [
    {
     "data": {
      "text/plain": [
       "0.28366218546322625"
      ]
     },
     "execution_count": 6,
     "metadata": {},
     "output_type": "execute_result"
    }
   ],
   "source": [
    "constant(x, y, 3*np.pi/2)"
   ]
  },
  {
   "cell_type": "markdown",
   "metadata": {
    "deletable": true,
    "editable": true
   },
   "source": [
    "## Interpolação Linear\n",
    "\n",
    "A interpolação Linear é outro método bem simples de interpolação. Neste método, uma função interpolante é definida para cada dois pontos consecutivos, o interpolante é definido pela reta que liga os dois pontos.\n",
    "\n",
    "Dados dois pontos consecutivos $(x_a, y_a)$ e $(x_b, y_b)$, definimos o interpolante como:\n",
    "\n",
    "$$y = y_a + \\frac{y_b - y_a}{x_b - x_a}(x - x_a)$$\n",
    "\n"
   ]
  },
  {
   "cell_type": "code",
   "execution_count": 7,
   "metadata": {
    "collapsed": false,
    "deletable": true,
    "editable": true
   },
   "outputs": [
    {
     "data": {
      "text/plain": [
       "[<matplotlib.lines.Line2D at 0x7fdd90a7e438>]"
      ]
     },
     "execution_count": 7,
     "metadata": {},
     "output_type": "execute_result"
    },
    {
     "data": {
      "image/png": "[encoded data removed]",
      "text/plain": [
       "<matplotlib.figure.Figure at 0x7fdd936d0a58>"
      ]
     },
     "metadata": {},
     "output_type": "display_data"
    }
   ],
   "source": [
    "plt.grid(True)\n",
    "plt.plot(x, y, 'bo')\n",
    "plt.plot(x, y, 'k-')"
   ]
  },
  {
   "cell_type": "markdown",
   "metadata": {
    "deletable": true,
    "editable": true
   },
   "source": [
    "### Implementação\n",
    "\n",
    "Vamos implementar a função `linear()` que, dados os vetores $x$ e $y$, retorne o valor encontrado da função $f(x)$ para um valor arbitrário $x_0 \\leq x_i \\leq x_n$, utilizando o método da interpolação linear."
   ]
  },
  {
   "cell_type": "code",
   "execution_count": 8,
   "metadata": {
    "collapsed": true,
    "deletable": true,
    "editable": true
   },
   "outputs": [],
   "source": [
    "def linear(x, y, xi):\n",
    "    \"\"\"\n",
    "    Encontrar o valor aproximado de f(xi) utilizando o método da interpolação linear.\n",
    "\n",
    "    Args:\n",
    "        x: pontos no eixo x.\n",
    "        y: pontos no eixo y.\n",
    "        xi: ponto onde deseja-se saber o valor de f(x).\n",
    "    \n",
    "    Returns:\n",
    "        O valor aproximado de f(x) no ponto xi.\n",
    "    \"\"\"\n",
    "    \n",
    "    # Retorna -1 caso xi esteja fora do intervalo\n",
    "    if xi < x[0] or xi > x[-1]:\n",
    "        return -1\n",
    "    \n",
    "    idx = 0\n",
    "    for i, e in enumerate(x):\n",
    "        if e <= xi:\n",
    "            idx = i\n",
    "        else:\n",
    "            break\n",
    "    \n",
    "    if x[idx] == x[-1]:\n",
    "        return y[idx]\n",
    "    \n",
    "    return y[idx] + (xi - x[idx]) * (y[idx+1] - y[idx]) / (x[idx+1] - x[idx])"
   ]
  },
  {
   "cell_type": "markdown",
   "metadata": {
    "deletable": true,
    "editable": true
   },
   "source": [
    "Sabemos que a nossa função $f(x)$ é $cos(x)$ e que $cos(\\frac{3\\pi}{2}) = 0$. Vamos utilizar as funções `constant()` e `linear()` para encontrar o valor de $f(\\frac{3\\pi}{2})$ e comparar os resultados:"
   ]
  },
  {
   "cell_type": "code",
   "execution_count": 9,
   "metadata": {
    "collapsed": false,
    "deletable": true,
    "editable": true
   },
   "outputs": [
    {
     "name": "stdout",
     "output_type": "stream",
     "text": [
      "constante: 0.283662185463\n",
      "linear:    0.0140827068142\n"
     ]
    }
   ],
   "source": [
    "print('constante:', constant(x, y, 3*np.pi/2))\n",
    "print('linear:   ', linear(x, y, 3*np.pi/2))"
   ]
  },
  {
   "cell_type": "markdown",
   "metadata": {
    "deletable": true,
    "editable": true
   },
   "source": [
    "## Interpolação Polinomial\n",
    "\n",
    "A Interpolação Polimonial consiste em encontrar um polinômio de ordem menor ou igual a $n$ que passe por um conjunto de $n+1$ pontos. Problema: dado um conjunto de $n+1$ pontos $(x_i, y_i)$, $0 \\leq i \\leq n$, com todos os $x_i$ diferentes, encontre um polinômio $P_n$ que passe por todos os $n+1$ pontos dados. Ou seja:\n",
    "\n",
    "$$P_n(x_i) = y_i, 0 \\leq i \\leq n.$$\n",
    "\n",
    "Este polinômio $P_n$ não só existe, como é único. Estudaremos três métodos para encontrá-lo:\n",
    "\n",
    "- Polinômio de Vandermonde;\n",
    "- Polinômio de Lagrange;\n",
    "- Polinômio de Newton."
   ]
  },
  {
   "cell_type": "markdown",
   "metadata": {},
   "source": [
    "### Polinômio de Vandermonde\n",
    "\n",
    "Esta é a forma mais intuitiva de se construir $P_n$. Dado o polinômio:\n",
    "\n",
    "$$P_n(x) = C_0x^n + C_1x^{n-1} + ... + C_{n-1}x + C_n$$\n",
    "\n",
    "Queremos encontrar todos os coeficientes $C_i$. Sabendo que $P_n(x_i) = y_i$, criamos o seguinte sistema de equações:\n",
    "\n",
    "$$\n",
    "\\begin{cases}\n",
    "y_0 = C_0x_0^n + C_1x_0^{n-1} + \\cdots C_n \\\\\n",
    "y_1 = C_0x_1^n + C_1x_1^{n-1} + \\cdots C_n \\\\\n",
    "\\vdots \\\\\n",
    "y_n = C_0x_n^n + C_1x_n^{n-1} + \\cdots C_n \\\\\n",
    "\\end{cases}\n",
    "$$\n",
    "\n",
    "Reescrevendo-o em forma matricial, temos:\n",
    "\n",
    "$$\n",
    "\\begin{bmatrix}\n",
    "x_0^n & x_0^{n-1} & \\cdots & x_0 & 1 \\\\\n",
    "x_1^n & x_1^{n-1} & \\cdots & x_1 & 1 \\\\\n",
    "\\vdots & \\vdots & \\ddots & \\vdots & \\vdots \\\\\n",
    "x_n^n & x_n^{n-1} & \\cdots & x_n & 1\n",
    "\\end{bmatrix} .\n",
    "\\begin{bmatrix}\n",
    "C_0 \\\\\n",
    "C_1 \\\\\n",
    "\\vdots \\\\\n",
    "C_n\n",
    "\\end{bmatrix} = \n",
    "\\begin{bmatrix}\n",
    "y_0 \\\\\n",
    "y_1 \\\\\n",
    "\\vdots \\\\\n",
    "y_n\n",
    "\\end{bmatrix}\n",
    "$$\n",
    "\n",
    "Tal matriz é chamada de matriz de Vandermonde. Para encontrar os coeficientes $C_i$ e assim $P_n$, basta resolver o sistema linear.\n",
    "\n",
    "Vejamos a função `vandermonde_polynomial()`. Ela encontra os coeficientes do polinômio $P_n(x)$ a partir de $n+1$ pontos dados."
   ]
  },
  {
   "cell_type": "code",
   "execution_count": 10,
   "metadata": {
    "collapsed": false
   },
   "outputs": [],
   "source": [
    "def vandermonde_polynomial (x, y):\n",
    "    \"\"\"\n",
    "    Encontrar os coeficientes do polinômio de Vandermonde, dado um conjunto de pontos de entrada.\n",
    "\n",
    "    Args:\n",
    "        x: pontos no eixo x.\n",
    "        y: pontos no eixo y.\n",
    "    \n",
    "    Returns:\n",
    "        Os coeficientes do polinômio de Vandermonde calculados a partir dos pontos dados.\n",
    "    \"\"\"\n",
    "    \n",
    "    X = np.vander(x, x.shape[0])\n",
    "    return np.linalg.solve(X, y)"
   ]
  },
  {
   "cell_type": "markdown",
   "metadata": {},
   "source": [
    "### Polinômio de Lagrange\n",
    "\n",
    "O polinômio de Lagrange é o método mais inteligente de se encontrar o polinômio $P_n$, por mais que este não seja tão intuitivo quanto o método de Vandermonde. O polinômio de Lagrange é o resultado da soma de $n+1$ polinômios, todos de grau $n$. Cada polinômio $P_i$ deve ser nulo em todos os pontos $x_j$, sempre que $j \\neq i$. Ou seja,\n",
    "\n",
    "$$\n",
    "P_i(x_j) = \n",
    "\\begin{cases}\n",
    "0, & i \\neq j, \\\\\n",
    "y_i, & i = j. \n",
    "\\end{cases}\n",
    "$$\n",
    "\n",
    "Podemos construir cada polinômio $P_i$ da seguinte forma:\n",
    "\n",
    "$$ P_i(x) = y_i \\frac{(x-x_0)(x-x_1)...(x-x_{i-1})(x-x_{i+1})...(x-x_n)}\n",
    "                     {(x_i-x_0)(x_i-x_1)...(x_i-x_{i-1})(x_i-x_{i+1})...(x_i-x_n)} $$\n",
    "\n",
    "É fácil ver que $P_i(x) = 0$ para todo $x = x_0, x_1, ..., x_{i-1}, x_{i+1}, ..., x_n$ e $P_i(x_i) = y_i$, satisfazendo assim, as condições acima.\n",
    "\n",
    "O polinômio $P_n$ que queremos é dado pela soma de todos os $P_i(x), 0 \\leq i \\leq n$.\n",
    "\n",
    "$$\n",
    "P_n(x) = \\sum_{i=0}^nP_i(x) =\n",
    "y_0 \\frac{(x-x_1)(x-x_2)...(x-x_n)}{(x_0-x_1)(x_0-x_2)...(x_0-x_n)} + \n",
    "y_1 \\frac{(x-x_0)(x-x_2)...(x-x_n)}{(x_1-x_0)(x_1-x_2)...(x_1-x_n)} + ... +\n",
    "y_n \\frac{(x-x_0)...(x-x_{n-2})(x-x_{n-1})}{(x_n-x_0)...(x_n-x_{n-2})(x_n-x_{n-1})}\n",
    "$$\n",
    "\n",
    "A unicidade do polinômio interpolante garante que o polinômio de Lagrange é idêntico ao polinômio de Vandermonde que é o polinômio interpolante.\n",
    "\n",
    "Vejamos a função `lagrange_polynomial()`. Ela encontra os coeficientes do polinômio $P_n(x)$ a partir de $n+1$ pontos dados."
   ]
  },
  {
   "cell_type": "code",
   "execution_count": 11,
   "metadata": {
    "collapsed": true
   },
   "outputs": [],
   "source": [
    "from scipy import interpolate\n",
    "def lagrange_polynomial (x, y):\n",
    "    \"\"\"\n",
    "    Encontrar os coeficientes do polinômio de Lagrange, dado um conjunto de pontos de entrada.\n",
    "\n",
    "    Args:\n",
    "        x: pontos no eixo x.\n",
    "        y: pontos no eixo y.\n",
    "    \n",
    "    Returns:\n",
    "        Os coeficientes do polinômio de Lagrange calculados a partir dos pontos dados.\n",
    "    \"\"\"\n",
    "    \n",
    "    return interpolate.lagrange(x, y)"
   ]
  },
  {
   "cell_type": "markdown",
   "metadata": {},
   "source": [
    "### Polinômio de Newton\n",
    "\n",
    "Podemos escrever $P_n$ da forma:\n",
    "\n",
    "$$ P_n(x) = C_0 + C_1(x - x_0) + C_2(x - x_0)(x - x_1) + ... + C_n(x - x_0)(x - x_1)...(x - x_{n-1}) $$\n",
    "\n",
    "Desta forma, quando $x = x_0$, todos os termos $C_1 a C_n$ são anulados restando apenas $C_0$. Quando $x = x_1$, todos os termos $C_2 a C_n$ são anulados restando apenas $C_0 + C_1(x_1 - x_0)$ e assim por diante. De acordo com as propriedades de $P_n$, temos:\n",
    "\n",
    "$$\n",
    "\\begin{cases}\n",
    "y_0 = C_0 \\\\\n",
    "y_1 = C_0 + C_1(x_1 - x_0) \\\\\n",
    "\\vdots = \\vdots \\\\\n",
    "y_n = C_0 + C_1(x_n - x_0) + ... + C_n(x_n - x_0)(x_n - x_1)...(x_n - x_{n-1})\n",
    "\\end{cases}\n",
    "$$\n",
    "\n",
    "É possível encontrar os coeficientes de $P_n$ resolvendo o seguinte sistema linear derivado do sistema acima:\n",
    "\n",
    "$$\n",
    "\\begin{bmatrix}\n",
    "1 & 0 & \\cdots & 0 \\\\\n",
    "1 & (x_1 - x_0) & \\cdots & 0 \\\\\n",
    "\\vdots & \\vdots & \\ddots & \\vdots \\\\\n",
    "1 & (x_n - x_0) & \\cdots & (x_n - x_0)...(x_n - x_{n-1})\n",
    "\\end{bmatrix} .\n",
    "\\begin{bmatrix}\n",
    "C_0 \\\\\n",
    "C_1 \\\\\n",
    "\\vdots \\\\\n",
    "C_n\n",
    "\\end{bmatrix} = \n",
    "\\begin{bmatrix}\n",
    "y_0 \\\\\n",
    "y_1 \\\\\n",
    "\\vdots \\\\\n",
    "y_n\n",
    "\\end{bmatrix}\n",
    "$$\n",
    "\n",
    "Vamos ver a função newton_polynomial(). Ela encontra os coeficientes do polinômio $P_n(x)$ a partir de $n+1$ pontos dados."
   ]
  },
  {
   "cell_type": "code",
   "execution_count": 12,
   "metadata": {
    "collapsed": false
   },
   "outputs": [],
   "source": [
    "def newton_polynomial (x, y):\n",
    "    \"\"\"\n",
    "    Encontrar os coeficientes do polinômio de Newton, dado um conjunto de pontos de entrada.\n",
    "\n",
    "    Args:\n",
    "        x: pontos no eixo x.\n",
    "        y: pontos no eixo y.\n",
    "    \n",
    "    Returns:\n",
    "        Os coeficientes do polinômio de Newton calculados a partir dos pontos dados.\n",
    "    \"\"\"\n",
    "    \n",
    "    return 0"
   ]
  },
  {
   "cell_type": "markdown",
   "metadata": {},
   "source": [
    "### Resultados\n",
    "\n",
    "Independente do método para encontrar o polinômio $P_n$, quando o número de pontos é muito elevado, encontrar o interpolante polinomial se torna proibitivo por conta de sua complexidade elevada. Outra desvantagem é que o comportamento de $P_n$ fora do intervalo $[x_0, x_n]$ é inesperado, podendo conter oscilações indesejadas.\n",
    "\n",
    "Vamos definir uma função que, dados os coeficientes de um polinômio $P(x)$ e um valor de $x$ arbitrário, retorne o valor de $P(x)$. A função será utilizada em conjunto ao polinômio $P_n$ para encontrar o valor da função $f(x)$ para um valor arbitrário $x_0 \\leq x \\leq x_n$, utilizando o método da interpolação polinomial."
   ]
  },
  {
   "cell_type": "code",
   "execution_count": 13,
   "metadata": {
    "collapsed": true
   },
   "outputs": [],
   "source": [
    "def polynomial (p, xi):\n",
    "    \"\"\"\n",
    "    Dados os coeficientes de um polinômio P(x) de grau n = p.shape[0]-1, da forma:\n",
    "        P(x) = p[0] * x**n + p[1] * x**(n-1) + ... + p[n-1] * x + p[n]\n",
    "    A função 'polynomial' retorna o valor de P(xi).\n",
    "\n",
    "    Args:\n",
    "        p: coeficientes do polinômio P(x).\n",
    "        xi: ponto onde deseja-se saber o valor de P(x).\n",
    "    \n",
    "    Returns:\n",
    "        O valor do polinômio P(x) no ponto xi.\n",
    "    \"\"\"\n",
    "    \n",
    "    pxi = 0\n",
    "    degree = p.shape[0] - 1\n",
    "    for i, coef in enumerate(p):\n",
    "        pxi += coef * xi ** (degree - i)\n",
    "    return pxi"
   ]
  },
  {
   "cell_type": "markdown",
   "metadata": {},
   "source": [
    "Dado o conjunto de pontos $x$ e $y$ definidos acima, a interpolação polinomial gera o seguinte resultado:"
   ]
  },
  {
   "cell_type": "code",
   "execution_count": 14,
   "metadata": {
    "collapsed": false
   },
   "outputs": [
    {
     "data": {
      "text/plain": [
       "[<matplotlib.lines.Line2D at 0x7fddc83f12b0>]"
      ]
     },
     "execution_count": 14,
     "metadata": {},
     "output_type": "execute_result"
    },
    {
     "data": {
      "image/png": "[encoded data removed]",
      "text/plain": [
       "<matplotlib.figure.Figure at 0x7fddc849cac8>"
      ]
     },
     "metadata": {},
     "output_type": "display_data"
    }
   ],
   "source": [
    "plt.grid(True)\n",
    "plt.plot(x, y, 'bo')\n",
    "\n",
    "p = vandermonde_polynomial(x, y)\n",
    "# p = lagrange_polynomial(x, y)\n",
    "# p = vandermonde_polynomial(x, y)\n",
    "\n",
    "interpolated_x = np.linspace(2, 8, 100)\n",
    "interpolated_y = []\n",
    "for i in interpolated_x:\n",
    "    interpolated_y += [polynomial(p, i)]\n",
    "plt.plot(interpolated_x, interpolated_y, 'k-')"
   ]
  },
  {
   "cell_type": "markdown",
   "metadata": {},
   "source": [
    "Vamos utilizar as funções `constant()`, `linear()` e `polynomial()` para encontrar novamente o valor de $f(\\frac{3\\pi}{2})$ e comparar os resultados:"
   ]
  },
  {
   "cell_type": "code",
   "execution_count": 15,
   "metadata": {
    "collapsed": false
   },
   "outputs": [
    {
     "name": "stdout",
     "output_type": "stream",
     "text": [
      "constante:  0.283662185463\n",
      "linear:     0.0140827068142\n",
      "polinomial: 0.00145725967194\n"
     ]
    }
   ],
   "source": [
    "print('constante: ', constant(x, y, 3*np.pi/2))\n",
    "print('linear:    ', linear(x, y, 3*np.pi/2))\n",
    "print('polinomial:', polynomial(vandermonde_polynomial(x, y), 3*np.pi/2))"
   ]
  },
  {
   "cell_type": "markdown",
   "metadata": {
    "deletable": true,
    "editable": true
   },
   "source": [
    "## Interpolação por Splines\n",
    "\n",
    "Ao invés de construirmos um único polinômio para passar por todos os pontos, podemos construir polinômios locais em cada trecho do intervalo e então conectá-los. A ideia da interpolação por Splines é parecida com a interpolação linear, porém, utilizando polinômios cúbicos.\n",
    "\n",
    "Problema: dada uma sequência de $n+1$ pontos $(x_0, y_0)$, $(x_1, y_1)$, ..., $(x_n, y_n)$ queremos encontrar $n$ polinômios cúbicos:\n",
    "\n",
    "$$ g_i(x) = a_i(x-x_i)^3 + b_i(x-x_i)^2 + c_i(x-x_i) + d_i, i = 0, 1, ..., n $$\n",
    "\n",
    "Tal que a função interpolante $g(x)$ seja dada por:\n",
    "\n",
    "$$ g(x) = g_i(x), x_i \\leq x \\leq x_{i+1}. $$\n",
    "\n",
    "Para que o interpolante seja suave em todo o intervalo, vamos impor que $g(x)$, $g'(x)$ e $g''(x)$ sejam contínuas em todo o intervalo. Essas funções são dadas por:\n",
    "\n",
    "$$\n",
    "\\begin{cases}\n",
    "g_i(x) = a_i(x-x_i)^3 + b_i(x-x_i)^2 + c_i(x-x_i) + d_i \\\\\n",
    "g_i(x) = 3a_i(x-x_i)^2 + 2b_i(x-x_i) + c_i \\\\\n",
    "g_i(x) = 6a_i(x-x_i) + 2b_i\n",
    "\\end{cases}\n",
    "$$\n",
    "\n",
    "Para que elas sejam contínuas em todo o intervalo, precisamos tratar os limites entre cada polinômio:\n",
    "\n",
    "$$\n",
    "\\begin{cases}\n",
    "g_i(x_i) = y_i, & i = 0, 1, ..., n-1 \\\\\n",
    "g_i(x_{i+1}) = y_{i+1}, & i = 0, 1, ..., n-1 \\\\\n",
    "g_i'(x_{i+1}) = g_{i+1}'(x_{i+1}), & i = 0, 1, ..., n-2 \\\\\n",
    "g_i''(x_{i+1}) = g_{i+1}''(x_{i+1}), & i = 0, 1, ..., n-2\n",
    "\\end{cases}\n",
    "$$\n",
    "\n",
    "Com os limites definidos, temos $2n + 2(n-1) = 4n - 2$ igualdades, porém, temos $n$ funções $g_i$ com quatro coeficientes cada, em um total de $4n$ coeficientes. Uma estratégia para definir as duas igualdades restantes é impor o valor de $g'(x)$ nos pontos $x_0$ e $x_n$.\n",
    "\n",
    "$$\n",
    "\\begin{cases}\n",
    "g_0'(x_0) = 0 \\\\\n",
    "g_{n-1}'(x_n) = 0\n",
    "\\end{cases}\n",
    "$$\n",
    "\n",
    "Agora temos um problema com $4n$ coeficientes e $4n$ igualdades. Vamos começar encontrando os coeficientes $d_i$: por definição, $g_i(x_i) = y_i$, porém, ao substituirmos $x_i$ em $g_i(x)$, temos: $g_i(x_i) = d_i$. Desta forma:\n",
    "\n",
    "$$ d_i = y_i, i = 0, 1, ..., n-1 $$\n",
    "\n",
    "O que encontra diretamente todos os coeficientes $d$."
   ]
  },
  {
   "cell_type": "code",
   "execution_count": 16,
   "metadata": {
    "collapsed": false,
    "deletable": true,
    "editable": true
   },
   "outputs": [
    {
     "data": {
      "image/png": "[encoded data removed]",
      "text/plain": [
       "<matplotlib.figure.Figure at 0x7fddc844e588>"
      ]
     },
     "metadata": {},
     "output_type": "display_data"
    }
   ],
   "source": [
    "# Validação das funções implementadas\n",
    "plt.plot(x, y, 'ro')\n",
    "a = np.linspace(2, 8, 100)\n",
    "\n",
    "b = []\n",
    "for i in a:\n",
    "    b += [constant(x, y, i)]\n",
    "plt.plot(a, b)\n",
    "\n",
    "b = []\n",
    "for i in a:\n",
    "    b += [linear(x, y, i)]\n",
    "plt.plot(a, b)\n",
    "\n",
    "b = []\n",
    "p = vandermonde_polynomial(x, y)\n",
    "for i in a:\n",
    "    b += [polynomial(p, i)]\n",
    "plt.plot(a, b)\n",
    "\n",
    "plt.title('Interpolação de um conjunto de pontos por vários métodos')\n",
    "plt.legend(['Dados', 'Constante', 'Linear', 'Polinomial', 'Splines'])\n",
    "plt.xlabel('x')\n",
    "plt.ylabel('y = f(x)')\n",
    "plt.grid(True)"
   ]
  },
  {
   "cell_type": "code",
   "execution_count": null,
   "metadata": {
    "collapsed": true
   },
   "outputs": [],
   "source": []
  }
 ],
 "metadata": {
  "kernelspec": {
   "display_name": "Python 3",
   "language": "python",
   "name": "python3"
  },
  "language_info": {
   "codemirror_mode": {
    "name": "ipython",
    "version": 3
   },
   "file_extension": ".py",
   "mimetype": "text/x-python",
   "name": "python",
   "nbconvert_exporter": "python",
   "pygments_lexer": "ipython3",
   "version": "3.5.2"
  }
 },
 "nbformat": 4,
 "nbformat_minor": 2
}
