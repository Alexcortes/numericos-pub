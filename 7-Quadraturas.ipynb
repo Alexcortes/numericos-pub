{
 "cells": [
  {
   "cell_type": "code",
   "execution_count": null,
   "metadata": {
    "collapsed": true
   },
   "outputs": [],
   "source": [
    "import numpy as np\n",
    "import matplotlib.pyplot as plt\n",
    "\n",
    "% matplotlib inline"
   ]
  },
  {
   "cell_type": "markdown",
   "metadata": {},
   "source": [
    "# Quadraturas\n",
    "\n",
    "Quadratura são métodos para aproximar integrais por somas. Em várias situações, podemos definir quadraturas simples através de fórmulas intuitivas. No entanto, as quadraturas mais eficazes exigem um pouco mais de aprofundamento.\n",
    "\n",
    "Começamos com o caso mais simples, a regra do ponto do meio. Lembramos que a integral é a área abaixo de uma curva. A figura abaixo ilustra uma aproximação simples para esta integral."
   ]
  },
  {
   "cell_type": "code",
   "execution_count": null,
   "metadata": {
    "collapsed": false
   },
   "outputs": [],
   "source": [
    "def f(x):\n",
    "    return x * np.sin(x)**2\n",
    "\n",
    "X = np.linspace(0, 10, 100)\n",
    "Y = f(X)\n",
    "plt.plot(X, Y, lw=2)\n",
    "plt.xlabel('x')\n",
    "plt.ylabel('f(x)')\n",
    "\n",
    "for i in range(10):\n",
    "    X = [i, i + 1, i + 1, i, i]\n",
    "    Y = [0, 0, f(i + 0.5), f(i + 0.5), 0]\n",
    "    plt.fill(X, Y, '0.95')\n",
    "    plt.plot([i + 0.5], [f(i + 0.5)], 'ko')"
   ]
  },
  {
   "cell_type": "markdown",
   "metadata": {},
   "source": [
    "Aqui aproximamos a integral pela soma da área dos retângulos, utilizando o centro de cada intervalo como a referência para a altura do retângulo. Podemos avaliar facilmente a área destes retângulos utilizando a fórmula\n",
    "\n",
    "$$S_i = h f(x_i + h/2)$$\n",
    "\n",
    "onde $h$ é definido com o tamanho de cada divisão no domínio de integração. Neste caso, $h=1$ e $x_i = i$."
   ]
  },
  {
   "cell_type": "code",
   "execution_count": null,
   "metadata": {
    "collapsed": false
   },
   "outputs": [],
   "source": [
    "h = 1\n",
    "X = np.arange(0, 10, h)\n",
    "S = h * f(X + h / 2)\n",
    "print('integral: %.4f' % S.sum())"
   ]
  },
  {
   "cell_type": "markdown",
   "metadata": {},
   "source": [
    "É óbvio que podemos melhorar o resultado realizando divisões menores do domínio de integração."
   ]
  },
  {
   "cell_type": "code",
   "execution_count": null,
   "metadata": {
    "collapsed": false
   },
   "outputs": [],
   "source": [
    "h = 1e-6\n",
    "X = np.arange(0, 10, h)\n",
    "S = h * f(X + h / 2)\n",
    "S_real = 25 + np.sin(10)**2/4 - 5/2 * np.sin(20)\n",
    "print('integral:  %.6f' % S.sum())\n",
    "print('analítico: %.6f' % S_real)"
   ]
  },
  {
   "cell_type": "markdown",
   "metadata": {},
   "source": [
    "Incidentalmente, este é o valor correto da integral considerando apenas 6 casas de precisão.\n",
    "\n",
    "Outra estratégia é tentar utilizar aproximações melhores para a função dentro de cada sub-divisão. Uma forma de melhorar a regra do ponto do meio é aproximar cada sub-área por um pequeno trapézio, como mostra a figura. "
   ]
  },
  {
   "cell_type": "code",
   "execution_count": null,
   "metadata": {
    "collapsed": false
   },
   "outputs": [],
   "source": [
    "X = np.linspace(0, 10, 100)\n",
    "Y = f(X)\n",
    "plt.plot(X, Y, lw=2)\n",
    "plt.xlabel('x')\n",
    "plt.ylabel('f(x)')\n",
    "\n",
    "for i in range(10):\n",
    "    X = [i, i + 1, i + 1, i, i]\n",
    "    Y = [0, 0, f(i + 1), f(i), 0]\n",
    "    plt.fill(X, Y, '0.95')\n",
    "    plt.plot([i, i + 1], [f(i), f(i + 1)], 'ko')"
   ]
  },
  {
   "cell_type": "code",
   "execution_count": null,
   "metadata": {
    "collapsed": false
   },
   "outputs": [],
   "source": [
    "h = 1\n",
    "X = np.arange(0, 10, h)\n",
    "S = h * (f(X) + f(X + h)) / 2\n",
    "\n",
    "print('integral: %.4f' % S.sum())"
   ]
  },
  {
   "cell_type": "markdown",
   "metadata": {},
   "source": [
    "Veremos a seguir que a regra do trapézio não produz resultados melhores que a regra do ponto do meio. Apesar do trapézio fornecer um ajuste um pouco mais preciso ao integrando, a regra do ponto do meio gera uma certa compensação natural: o excesso de área em um dos lados do ponto central é frequentemente compensado pela área que falta do outro lado. \n",
    "\n",
    "Comparamos assim o resultado das duas regras para diferentes h's."
   ]
  },
  {
   "cell_type": "code",
   "execution_count": null,
   "metadata": {
    "collapsed": false
   },
   "outputs": [],
   "source": [
    "for h in [0.01, 0.05, 0.1, 0.5, 1.0, 2.0]:\n",
    "    X = np.arange(0, 10, h)\n",
    "    \n",
    "    S_meio = (h * f(X + h / 2)).sum()\n",
    "    S_trap = (h * (f(X) + f(X + h))/2).sum()\n",
    "    \n",
    "    e_meio = abs(S_meio - S_real)\n",
    "    e_trap = abs(S_trap - S_real)\n",
    "    \n",
    "    print('h: %.2f' % h)\n",
    "    print('    erro midpoint: %.2e' % e_meio)\n",
    "    print('    erro trapézio: %.2e' % e_trap)\n",
    "    print()"
   ]
  },
  {
   "cell_type": "markdown",
   "metadata": {},
   "source": [
    "## Regra de Simpson\n",
    "\n",
    "Uma forma de melhorar estes resultados sem precisar diminuir excessivamente o valor de h é utilizar pontos adicionais dentro do intervalo. Fazendo uma escolha adequada, conseguimos ganhos enormes de precisão. Considere a regra de Simpson, que aproxima a função no intervalo por uma parábola escolhendo 3 pontos de referência no início, meio e fim do intervalo.\n",
    "\n",
    "Na regra de Simpson, a integral sobre cada segmento é aproximada pela seguinte fórmula\n",
    "\n",
    "$$S_i = \\frac{h}{6} \\left[f(x_i) + 4 f(x_i + h/2) + f(x_i + h)\\right]$$\n",
    "\n",
    "Consideramos a regra de Simpson na comparação anterior."
   ]
  },
  {
   "cell_type": "code",
   "execution_count": null,
   "metadata": {
    "collapsed": false
   },
   "outputs": [],
   "source": [
    "for h in [0.01, 0.05, 0.1, 0.5, 1.0, 2.0]:\n",
    "    X = np.arange(0, 10, h)\n",
    "    S_meio = (h * f(X + h/2)).sum()\n",
    "    S_trap = (h * (f(X) + f(X + h))/2).sum()\n",
    "    S_simp = (h/6 * (f(X) + 4 * f(X + h/2) + f(X + h))).sum()\n",
    "    \n",
    "    print('h: %.2f' % h)\n",
    "    print('    erro midpoint: %.2e' % abs(S_meio - S_real))\n",
    "    print('    erro trapézio: %.2e' % abs(S_trap - S_real))\n",
    "    print('    erro simpson:  %.2e' % abs(S_simp - S_real))\n",
    "    print()"
   ]
  },
  {
   "cell_type": "markdown",
   "metadata": {},
   "source": [
    "É um resultado muito melhor! A comparação não é inteiramente justa já que a regra de Simpson exige maior custo \n",
    "computacional que as outras duas (algo em torno do dobro do custo computacional). No entanto, ela oferece uma performance muito maior e podemos compensar este aumento na complexidade do código por uma diminuição no número de sub-divisões do intervalo de integração.\n",
    "\n",
    "Obtemos uma precisão similar que as regras anteriores com h=0.01 utilizando um h dez vezes maior na regra de Simpson. Uma vez escolhida esta faixa de precisão, a regra de Simpson seria cerca de 5 vezes mais eficiente do ponto de vista computacional que as outras. Este resulltado muda de acordo com a função escolhida e com a precisão exigida, mas a não ser em ocasiões exceptionais, a regra de Simpson oferecerá os melhores resultados."
   ]
  },
  {
   "cell_type": "markdown",
   "metadata": {},
   "source": [
    "### Simpson 3/8\n",
    "\n",
    "Existe uma segunda variante da regra de Simpson que oferece precisão um pouco melhor que a primeira e avalia 4 pontos dentro de cada intervalo:\n",
    "\n",
    "$$S_i = \\frac{h}{8} \\left[f(x_i) + 3 f(x_i + h/3) + 3 f(x_i + 2h/3 + f(x_i + h)\\right]$$\n",
    "\n",
    "Vamos aos resultados:"
   ]
  },
  {
   "cell_type": "code",
   "execution_count": null,
   "metadata": {
    "collapsed": false
   },
   "outputs": [],
   "source": [
    "for h in [0.01, 0.05, 0.1, 0.5, 1.0, 2.0]:\n",
    "    X = np.arange(0, 10, h)\n",
    "    S_meio = (h * f(X + h/2)).sum()\n",
    "    S_trap = (h * (f(X) + f(X + h))/2).sum()\n",
    "    S_simp = (h/6 * (f(X) + 4 * f(X + h/2) + f(X + h))).sum()\n",
    "    S_simp38 = (h/8 * (f(X) + 3 * f(X + h/3) + 3*f(X + 2*h/3) + f(X + h))).sum()\n",
    "    print('h: %.2f' % h)\n",
    "    print('    erro midpoint: %.2e' % abs(S_meio - S_real))\n",
    "    print('    erro trapézio: %.2e' % abs(S_trap - S_real))\n",
    "    print('    erro simpson:  %.2e' % abs(S_simp - S_real))\n",
    "    print('    erro simp 3/8: %.2e' % abs(S_simp38 - S_real))\n",
    "    print()"
   ]
  },
  {
   "cell_type": "markdown",
   "metadata": {},
   "source": [
    "## Quadraturas Gaussianas\n",
    "\n",
    "A regra de Simpson pode ser derivada a partir de uma aproximação do integrando por polinômios. Neste caso, escolhemos pontos igualmente espaçados no intervalo de integração, incluindo os dois pontos extremos. A regra de quadratura Gaussiana parte de uma idéia um pouco mais avançada: utilizamos aproximações polinomiais, mas além disto escolhemos os pontos no intervalo de integração que fornecerão a melhor aproximação possível.\n",
    "\n",
    "Para simplificar um pouco a notação, sempre mapeamos o intervalo de integração em uma nova variável $u$ dentro do intervalo $u\\in[-1, 1]$. Vamos supor inicialmente que o intervalo é este e depois lidaremos com o problema de converter a integral para dentro deste intervalo.\n",
    "\n",
    "Existem várias regras a depender do número de pontos utilizados:\n",
    "\n",
    "| n | $u_i$                                   | $w_i$                         |\n",
    "|---|-----------------------------------------|-------------------------------|\n",
    "| 1 | 0                                       | $2$                           |\n",
    "| 2 | $\\pm\\sqrt\\frac13$                       | $1$                           |\n",
    "| 3 | 0                                       | $\\frac89$                     |\n",
    "|   | $\\pm\\sqrt\\frac35$                       | $\\frac59$                     |\n",
    "| 4 | $\\pm\\sqrt{\\frac37-\\frac27\\sqrt\\frac65}$ | $\\frac{18+\\sqrt{30}}{36}$     |\n",
    "|   | $\\pm\\sqrt{\\frac37+\\frac27\\sqrt\\frac65}$ | $\\frac{18-\\sqrt{30}}{36}$     |\n",
    "| 5 | 0                                       | $\\frac{128}{225}$             |\n",
    "|   | $\\pm\\frac13\\sqrt{5-2\\sqrt\\frac{10}{7}}$ | $\\frac{322+13\\sqrt{70}}{900}$ |\n",
    "|   | $\\pm\\frac13\\sqrt{5+2\\sqrt\\frac{10}{7}}$ | $\\frac{322-13\\sqrt{70}}{900}$ |\n",
    "\n",
    "Estes números significam que vamos substituir a integral $\\int_{-1}^{1} f(x) dx$ pelo somatório de quadratura\n",
    "\n",
    "$$\\int_{-1}^{1} f(x) dx \\simeq \\sum_{i=1}^n w_i f(u_i)$$\n",
    "\n",
    "Se a integral não for no intervalo de -1 até 1, o resultado fica:\n",
    "\n",
    "$$\\int_{x_i}^{x_i + h} f(x) dx \\simeq \\frac h2 \\sum_{i=1}^n w_i f\\left(x_i + \\frac h2(1 + u_i)\\right)$$\n",
    "\n",
    "Vamos comparar a quadratura de 3 pontos com as regras vistas anteriormente."
   ]
  },
  {
   "cell_type": "code",
   "execution_count": null,
   "metadata": {
    "collapsed": false
   },
   "outputs": [],
   "source": [
    "for h in [0.01, 0.05, 0.1, 0.5, 1.0, 2.0]:\n",
    "    X = np.arange(0, 10, h)\n",
    "    S_meio = (h * f(X + h/2)).sum()\n",
    "    S_trap = (h * (f(X) + f(X + h))/2).sum()\n",
    "    S_simp = (h/6 * (f(X) + 4 * f(X + h/2) + f(X + h))).sum()\n",
    "    \n",
    "    w0 = 8/9\n",
    "    w1 = 5/9\n",
    "    u0 = 0\n",
    "    u1 = np.sqrt(3/5)\n",
    "    S_gauss = (h/2 * (\n",
    "            w0 * f(X + h/2*(1 + u0)) + \n",
    "            w1 * f(X + h/2*(1 + u1)) + \n",
    "            w1 * f(X + h/2*(1 - u1)))).sum()\n",
    "               \n",
    "    print('h: %.2f' % h)\n",
    "    print('    erro midpoint: %.2e' % abs(S_meio - S_real))\n",
    "    print('    erro trapézio: %.2e' % abs(S_trap - S_real))\n",
    "    print('    erro simpson:  %.2e' % abs(S_simp - S_real))\n",
    "    print('    erro gauss:    %.2e' % abs(S_gauss - S_real))\n",
    "    print()"
   ]
  },
  {
   "cell_type": "markdown",
   "metadata": {},
   "source": [
    "Vemos que a quadratura Gaussiana é muito superior à regra de Simpsons!"
   ]
  },
  {
   "cell_type": "markdown",
   "metadata": {},
   "source": [
    "## Calculando o erro\n",
    "\n",
    "Vimos que diferentes regras de quadratura possuem comportamentos muito distintos no que se refere ao erro e acurácia. A quadratura Gaussiana, por exemplo, utilizando somente 3 pontos produz resultados várias ordens de grandeza melhores que a regra de Simpson que também utiliza apenas 3 pontos. A própria regra de Simpson funciona muito melhor que simplesmente repetir a regra do trapézio duas vezes. O que há de especial na escolha destes pesos específicos?\n",
    "\n",
    "Entendemos melhor o comportamento destas regras de quadratura através da expansão do integrando em série de Taylor. A maior parte das funções \"bem comportadas\" possuem uma expansão como série de potências:\n",
    "\n",
    "$$f(x) = \\sum_{n=0}^\\infty a_n (x - x_0)^n$$\n",
    "\n",
    "Onde calculamos cada coeficiente utilizando o valor da n-ésima derivada da função no ponto $x_0$: $a_n = \\frac{1}{n!}f^{(n)}(x_0)$.\n",
    "\n",
    "Considere o valor da integral desta função, calculada a partir da série de Taylor:\n",
    "\n",
    "$$\\int_{x_0}^{x_0 + h} f(x) dx = \\sum_{n=0}^\\infty \\frac{f^{(n)}(x_0)}{(n + 1)!}h^{n + 1}\n",
    "                               = f(x_0) h + \\frac{f'(x_0)}{2} h^2 + \\frac{f''(x_0)}{6} h^3 \n",
    "                               + \\frac{f'''(x_0)}{24} h^4+ \\dots$$\n",
    "\n",
    "Agora temos que comparar este resultado com o resultado obtido expandindo explicitamente as regras de quadratura. A regra do ponto do meio, por exemplo, pode ser escrita como:\n",
    "\n",
    "$$\\int_{x_0}^{x_0 + h} f(x) dx \\simeq Q_{mid} = h f(x_0 + h/2)$$\n",
    "\n",
    "Substituindo a série de Taylor no lado direito fornece\n",
    "\n",
    "$$Q_{mid} = h \\sum_{n=0}^\\infty \\frac{f^{(n)}(x_0)}{n!}\\left(\\frac h2\\right)^n\n",
    "          = f(x_0) h + \\frac{f'(x_0)}{2} h^2 + \\frac{f''(x_0)}{8} h^3 + \\dots $$\n",
    "          \n",
    "Note que os dois primeiros termos são idênticos à expansão correta da integral. A divergência ocorre no terceiro termo, onde na resposta correta leva um fator do tipo $\\frac{f''(x_0)}{6} h^3$ enquanto a quadratura produz $\\frac{f''(x_0)}{8} h^3$. A diferença entre ambos é de $\\frac{f''(x_0)}{24} h^3$. \n",
    "\n",
    "Apesar de esta ser a diferença dominante, os outros termos da expansão infinita possivelmente contribuem para que a quadratura possua um valor diferente da integral correta. No entanto, existe um teorema (teorema do valor médio) que diz que a diferença entre ambas funções (a integral e a quadratura) é exatamente igual a $\\frac{f''(\\zeta)}{24} h^3$, onde $\\zeta$ é um valor não-determinado dentro do intervalo de integração.\n",
    "\n",
    "O teorema do valor médio não nos permite descobrir qual é o valor exato do erro (se isto fosse possível, bastava acrescentar o valor do erro na resposta dada pela quadratura para obter o valor exato). No entanto, se soubermos  o valor máximo que a derivada segunda da função pode atingir dentro do intervalo, isto nos daria qual é o valor máximo do erro neste intervalo. Este resultado, portanto, fornece uma margem de confiança no valor da integral que pode ser muito útil."
   ]
  },
  {
   "cell_type": "markdown",
   "metadata": {},
   "source": [
    "## Obtendo fórmulas de erro\n",
    "\n",
    "Vamos calcular as fórmulas de erro utilizando o pacote `sympy` do Python, que realiza manipulações algébricas. Começamos por importar o pacote e definir algumas variáveis algébricas."
   ]
  },
  {
   "cell_type": "code",
   "execution_count": null,
   "metadata": {
    "collapsed": false
   },
   "outputs": [],
   "source": [
    "import sympy as sp\n",
    "from sympy import var\n",
    "sp.init_printing()\n",
    "\n",
    "x, x0, h = var('x,x0,h')\n",
    "_1 = one = sp.Integer(1)"
   ]
  },
  {
   "cell_type": "markdown",
   "metadata": {},
   "source": [
    "O sympy trabalha com expressões algébricas. Podemos criá-las em código Python e depois realizar operações como o cálculo de integrais, derivadas, simplificações, etc. "
   ]
  },
  {
   "cell_type": "code",
   "execution_count": null,
   "metadata": {
    "collapsed": false
   },
   "outputs": [],
   "source": [
    "def fat(n):\n",
    "    return n * fat(n - 1) if n > 1 else 1\n",
    "\n",
    "N = 10\n",
    "fx = sum(var('f%s' % n) * (x - x0)**n / fat(n) for n in range(N))\n",
    "fx"
   ]
  },
  {
   "cell_type": "markdown",
   "metadata": {},
   "source": [
    "Agora calculamos a integral de f no intervalo (x0, x0 + h)"
   ]
  },
  {
   "cell_type": "code",
   "execution_count": null,
   "metadata": {
    "collapsed": false
   },
   "outputs": [],
   "source": [
    "integral = fx.integrate((x, x0, x0 + h)).expand()\n",
    "integral"
   ]
  },
  {
   "cell_type": "markdown",
   "metadata": {},
   "source": [
    "Temos a resposta para a integral. Agora queremos comparar com as regras de quadratura. Começamos com a regra do ponto do meio para verificar se obtemos os mesmos resultados que antes."
   ]
  },
  {
   "cell_type": "code",
   "execution_count": null,
   "metadata": {
    "collapsed": false
   },
   "outputs": [],
   "source": [
    "quad = h * fx.subs({x: x0 + h/2})\n",
    "quad = quad.expand()\n",
    "quad"
   ]
  },
  {
   "cell_type": "markdown",
   "metadata": {},
   "source": [
    "Vemos que o obtemos o mesmo termo mostrado anteriormente. Quando subtraímos um valor pelo outro, o termo principal do resultado fornece uma estimativa de erro da série."
   ]
  },
  {
   "cell_type": "code",
   "execution_count": null,
   "metadata": {
    "collapsed": false
   },
   "outputs": [],
   "source": [
    "integral - quad"
   ]
  },
  {
   "cell_type": "markdown",
   "metadata": {},
   "source": [
    "Vemos então que o erro corresponde a um fator do tipo \n",
    "\n",
    "$$e = \\frac{f''(\\zeta)}{24} h^3$$"
   ]
  },
  {
   "cell_type": "markdown",
   "metadata": {},
   "source": [
    "### Erro para outras regras de quadratura\n",
    "\n",
    "Vamos repetir a análise para a regra do trapézio e para a regra de Simpson. Depois você pode repetir os passos e e calcular o erro para a regra de Simpson 3/8."
   ]
  },
  {
   "cell_type": "code",
   "execution_count": null,
   "metadata": {
    "collapsed": false
   },
   "outputs": [],
   "source": [
    "quad = h / 2 * (fx.subs({x: x0}) + fx.subs({x: x0 + h}))\n",
    "quad = quad.expand()\n",
    "integral - quad"
   ]
  },
  {
   "cell_type": "markdown",
   "metadata": {},
   "source": [
    "Desta forma vemos que o erro da regra do trapézio é de\n",
    "\n",
    "$$e = -\\frac{f''(\\zeta)}{12} h^3$$.\n",
    "\n",
    "Note que este erro é o dobro do erro induzido pela regra do ponto médio. De fato, se você verificar os resultados obtidos acima vemos que de fato a regra do ponto médio tende a ser duas vezes mais precisa que a regra do trapézio."
   ]
  },
  {
   "cell_type": "markdown",
   "metadata": {},
   "source": [
    "Agora vamos à regra de Simpson"
   ]
  },
  {
   "cell_type": "code",
   "execution_count": null,
   "metadata": {
    "collapsed": false
   },
   "outputs": [],
   "source": [
    "quad = h / 6 * (fx.subs({x: x0}) + 4 * fx.subs({x: x0 + h/2}) + fx.subs({x: x0 + h}))\n",
    "quad = quad.expand()\n",
    "integral - quad"
   ]
  },
  {
   "cell_type": "markdown",
   "metadata": {},
   "source": [
    "Daí deduzimos a regra do erro como sendo\n",
    "\n",
    "$$e = -\\frac{f^{(4)}(\\zeta)}{2880} h^5$$.\n",
    "\n",
    "Observe que, diferentemente das regras anteriores, a regra de Simpson possui um fator multiplicativo de $h^5$ e não de $h^3$. Quando pensamos em $h \\rightarrow 0$, isto significa que a regra de Simpson produz erros que vão a zero mais rapidamente que a regra do ponto médio."
   ]
  },
  {
   "cell_type": "markdown",
   "metadata": {},
   "source": [
    "## Erro em quadraturas Gaussianas\n",
    "\n",
    "Quadraturas Gaussianas exigem uma atenção especial pois são definidas em um intervalo simétrico de -1 até 1. Modificamos o intervalo para -h/2, h/2 para levar em conta a dependência do erro com o tamanho do intervalo de integração. Expandimos $f(x)$ em torno do zero e calculamos a integral."
   ]
  },
  {
   "cell_type": "code",
   "execution_count": null,
   "metadata": {
    "collapsed": false
   },
   "outputs": [],
   "source": [
    "N = 10\n",
    "fx = sum(var('f%s' % n) * x**n / fat(n) for n in range(N))\n",
    "integral = fx.integrate((x, -h/2, h/2))\n",
    "integral"
   ]
  },
  {
   "cell_type": "markdown",
   "metadata": {},
   "source": [
    "Vamos aplicar a regra de quadratura de dois pontos para ilustrar o procedimento"
   ]
  },
  {
   "cell_type": "code",
   "execution_count": null,
   "metadata": {
    "collapsed": false
   },
   "outputs": [],
   "source": [
    "w = 1\n",
    "u = sp.sqrt(one / 3)\n",
    "quad = h/2 * (w * fx.subs({x: -h/2 * u}) + w * fx.subs({x: h/2 * u}))\n",
    "quad = quad.expand()\n",
    "integral - quad"
   ]
  },
  {
   "cell_type": "markdown",
   "metadata": {},
   "source": [
    "Daí descobrimos que o erro para a regra de quadratura Gaussiana de dois pontos é igual a\n",
    "\n",
    "$$e = \\frac{f^(4)}{4320} h^5$$\n",
    "\n",
    "É a mesma ordem de grandeza da regra de Simpson, mas utiliza apenas dois pontos no integrando ao invés de 3. Vemos também que o erro é consideravelmente menor pois o fator de $1/2880$ na regra de Simpson é substituído por $1/4320$."
   ]
  },
  {
   "cell_type": "code",
   "execution_count": 3,
   "metadata": {
    "collapsed": false
   },
   "outputs": [],
   "source": [
    "def fib(x):\n",
    "    if x <= 1:\n",
    "        return 1\n",
    "    else:\n",
    "        return fib(x - 1) + fib(x - 2)"
   ]
  },
  {
   "cell_type": "code",
   "execution_count": 7,
   "metadata": {
    "collapsed": false
   },
   "outputs": [
    {
     "name": "stdout",
     "output_type": "stream",
     "text": [
      "100000 loops, best of 3: 11.6 µs per loop\n"
     ]
    }
   ],
   "source": [
    "%timeit fib(8)"
   ]
  },
  {
   "cell_type": "code",
   "execution_count": 6,
   "metadata": {
    "collapsed": false
   },
   "outputs": [
    {
     "data": {
      "text/plain": [
       "34"
      ]
     },
     "execution_count": 6,
     "metadata": {},
     "output_type": "execute_result"
    }
   ],
   "source": [
    "fib(8)"
   ]
  },
  {
   "cell_type": "code",
   "execution_count": null,
   "metadata": {
    "collapsed": true
   },
   "outputs": [],
   "source": []
  }
 ],
 "metadata": {
  "kernelspec": {
   "display_name": "Python 3",
   "language": "python",
   "name": "python3"
  },
  "language_info": {
   "codemirror_mode": {
    "name": "ipython",
    "version": 3
   },
   "file_extension": ".py",
   "mimetype": "text/x-python",
   "name": "python",
   "nbconvert_exporter": "python",
   "pygments_lexer": "ipython3",
   "version": "3.6.0"
  }
 },
 "nbformat": 4,
 "nbformat_minor": 2
}
